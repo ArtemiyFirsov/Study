{
  "nbformat": 4,
  "nbformat_minor": 0,
  "metadata": {
    "colab": {
      "provenance": [],
      "authorship_tag": "ABX9TyO3mVdy8kbSm1WbPmQdkjSb",
      "include_colab_link": true
    },
    "kernelspec": {
      "display_name": "Python 3",
      "name": "python3"
    }
  },
  "cells": [
    {
      "cell_type": "markdown",
      "metadata": {
        "id": "view-in-github",
        "colab_type": "text"
      },
      "source": [
        "<a href=\"https://colab.research.google.com/github/dayekb/Study/blob/main/rus/UrFU/%D0%98%D0%BD%D1%82%D0%B5%D0%BB%D0%BB%D0%B5%D0%BA%D1%82%D1%83%D0%B0%D0%BB%D1%8C%D0%BD%D1%8B%D0%B5%20%D0%B8%D0%BD%D1%84%D0%BE%D1%80%D0%BC%D0%B0%D1%86%D0%B8%D0%BE%D0%BD%D0%BD%D1%8B%D0%B5%20%D1%81%D0%B8%D1%81%D1%82%D0%B5%D0%BC%D1%8B%20%D0%B8%20%D1%82%D0%B5%D1%85%D0%BD%D0%BE%D0%BB%D0%BE%D0%B3%D0%B8%D0%B8%20%D0%B2%20%D0%BC%D0%B5%D0%B4%D0%B8%D1%86%D0%B8%D0%BD%D0%B5/2%20%D1%81%D0%B5%D0%B7%D0%BE%D0%BD/%D0%91%D0%BB%D0%BE%D0%BA%D0%BD%D0%BE%D1%82%D1%8B%20(ipynb)/ML_2_6_1_Neural_Networks_Intro.ipynb\" target=\"_parent\"><img src=\"https://colab.research.google.com/assets/colab-badge.svg\" alt=\"Open In Colab\"/></a>"
      ]
    },
    {
      "cell_type": "markdown",
      "metadata": {
        "id": "K10fEAgIixyH"
      },
      "source": [
        "# Импортируем библиотеки"
      ]
    },
    {
      "cell_type": "code",
      "metadata": {
        "id": "3L5Q6GCof7_I"
      },
      "source": [
        "import tensorflow as tf\n",
        "from tensorflow.keras import datasets, layers, models, regularizers\n",
        "import numpy as np\n",
        "import seaborn as sns\n",
        "import matplotlib.pyplot as plt"
      ],
      "execution_count": null,
      "outputs": []
    },
    {
      "cell_type": "code",
      "metadata": {
        "id": "_NFw2L45L2_s"
      },
      "source": [
        "plt.style.use('dark_background')"
      ],
      "execution_count": null,
      "outputs": []
    },
    {
      "cell_type": "code",
      "metadata": {
        "id": "4gxRBX9hdcZm"
      },
      "source": [
        "!pip install -q git+https://github.com/tensorflow/docs\n",
        "import tensorflow_docs as tfdocs\n",
        "import tensorflow_docs.modeling\n",
        "import tensorflow_docs.plots"
      ],
      "execution_count": null,
      "outputs": []
    },
    {
      "cell_type": "markdown",
      "metadata": {
        "id": "2bRhgd1MxtQ4"
      },
      "source": [
        "# Набор данных CIFAR с 10 классами"
      ]
    },
    {
      "cell_type": "code",
      "metadata": {
        "id": "IFv_uetaxsjN"
      },
      "source": [
        "(train_images, train_labels), (test_images, test_labels) = datasets.cifar10.load_data()"
      ],
      "execution_count": null,
      "outputs": []
    },
    {
      "cell_type": "code",
      "metadata": {
        "id": "oIVFRhyExtbn"
      },
      "source": [
        "target_names=np.array(['airplane',\n",
        "'automobile',\n",
        "'bird',\n",
        "'cat',\n",
        "'deer',\n",
        "'dog',\n",
        "'frog',\n",
        "'horse',\n",
        "'ship',\n",
        "'truck'])"
      ],
      "execution_count": null,
      "outputs": []
    },
    {
      "cell_type": "markdown",
      "metadata": {
        "id": "i1W_r4dwu0Kp"
      },
      "source": [
        "**Размерность набора данных**"
      ]
    },
    {
      "cell_type": "code",
      "metadata": {
        "colab": {
          "base_uri": "https://localhost:8080/"
        },
        "id": "SMiKVF6bbXP8",
        "outputId": "5ee30ebe-b8eb-4991-a0e5-d9a966d6297a"
      },
      "source": [
        "train_images.shape"
      ],
      "execution_count": null,
      "outputs": [
        {
          "output_type": "execute_result",
          "data": {
            "text/plain": [
              "(50000, 32, 32, 3)"
            ]
          },
          "metadata": {},
          "execution_count": 29
        }
      ]
    },
    {
      "cell_type": "markdown",
      "metadata": {
        "id": "NBSHbQAwu51g"
      },
      "source": [
        "Нормировка"
      ]
    },
    {
      "cell_type": "code",
      "metadata": {
        "id": "1zBfvUiieEgA"
      },
      "source": [
        "train_images, test_images = train_images / 255.0, test_images / 255.0"
      ],
      "execution_count": null,
      "outputs": []
    },
    {
      "cell_type": "markdown",
      "metadata": {
        "id": "GUTycnwLuhoa"
      },
      "source": [
        "# Простая Полносвязная Нейронная Сеть\n",
        "\n",
        "\n",
        "\n",
        "\n"
      ]
    },
    {
      "cell_type": "code",
      "metadata": {
        "id": "xQPXK8Qo9XQ9",
        "colab": {
          "base_uri": "https://localhost:8080/"
        },
        "outputId": "8c63f6ad-55c8-4395-8927-3e8b678ceb84"
      },
      "source": [
        "model = tf.keras.models.Sequential()\n",
        "model.add(layers.Flatten(input_shape=(32, 32,3)))\n",
        "model.add(layers.Dense(32, activation='sigmoid'))\n",
        "model.add(layers.Dense(16, activation='sigmoid'))\n",
        "model.add(layers.Dense(10))\n",
        "model.compile(optimizer='SGD',\n",
        "              loss=tf.keras.losses.SparseCategoricalCrossentropy(from_logits=True),\n",
        "              metrics=['accuracy'])\n",
        "model.summary()"
      ],
      "execution_count": null,
      "outputs": [
        {
          "output_type": "stream",
          "name": "stdout",
          "text": [
            "Model: \"sequential_2\"\n",
            "_________________________________________________________________\n",
            " Layer (type)                Output Shape              Param #   \n",
            "=================================================================\n",
            " flatten_1 (Flatten)         (None, 3072)              0         \n",
            "                                                                 \n",
            " dense_3 (Dense)             (None, 32)                98336     \n",
            "                                                                 \n",
            " dense_4 (Dense)             (None, 16)                528       \n",
            "                                                                 \n",
            " dense_5 (Dense)             (None, 10)                170       \n",
            "                                                                 \n",
            "=================================================================\n",
            "Total params: 99,034\n",
            "Trainable params: 99,034\n",
            "Non-trainable params: 0\n",
            "_________________________________________________________________\n"
          ]
        }
      ]
    },
    {
      "cell_type": "code",
      "metadata": {
        "id": "a3FZYD1xIQ_T",
        "colab": {
          "base_uri": "https://localhost:8080/"
        },
        "outputId": "eb354f06-a544-46ad-ae81-dfb88f6e2782"
      },
      "source": [
        "history = model.fit(train_images, train_labels, \n",
        "                    validation_data=(test_images, test_labels), \n",
        "                    epochs=10)"
      ],
      "execution_count": null,
      "outputs": [
        {
          "output_type": "stream",
          "name": "stdout",
          "text": [
            "Epoch 1/10\n",
            "1563/1563 [==============================] - 6s 4ms/step - loss: 1.8516 - accuracy: 0.3408 - val_loss: 1.8505 - val_accuracy: 0.3401\n",
            "Epoch 2/10\n",
            "1563/1563 [==============================] - 6s 4ms/step - loss: 1.8333 - accuracy: 0.3471 - val_loss: 1.8284 - val_accuracy: 0.3514\n",
            "Epoch 3/10\n",
            "1563/1563 [==============================] - 5s 3ms/step - loss: 1.8166 - accuracy: 0.3529 - val_loss: 1.8110 - val_accuracy: 0.3527\n",
            "Epoch 4/10\n",
            "1563/1563 [==============================] - 5s 3ms/step - loss: 1.8008 - accuracy: 0.3589 - val_loss: 1.7945 - val_accuracy: 0.3560\n",
            "Epoch 5/10\n",
            "1563/1563 [==============================] - 5s 3ms/step - loss: 1.7861 - accuracy: 0.3638 - val_loss: 1.7877 - val_accuracy: 0.3618\n",
            "Epoch 6/10\n",
            "1563/1563 [==============================] - 5s 3ms/step - loss: 1.7725 - accuracy: 0.3678 - val_loss: 1.7656 - val_accuracy: 0.3678\n",
            "Epoch 7/10\n",
            "1563/1563 [==============================] - 5s 4ms/step - loss: 1.7598 - accuracy: 0.3730 - val_loss: 1.7640 - val_accuracy: 0.3667\n",
            "Epoch 8/10\n",
            "1563/1563 [==============================] - 5s 3ms/step - loss: 1.7480 - accuracy: 0.3772 - val_loss: 1.7418 - val_accuracy: 0.3732\n",
            "Epoch 9/10\n",
            "1563/1563 [==============================] - 5s 3ms/step - loss: 1.7362 - accuracy: 0.3812 - val_loss: 1.7341 - val_accuracy: 0.3763\n",
            "Epoch 10/10\n",
            "1563/1563 [==============================] - 5s 3ms/step - loss: 1.7248 - accuracy: 0.3842 - val_loss: 1.7234 - val_accuracy: 0.3874\n"
          ]
        }
      ]
    },
    {
      "cell_type": "code",
      "metadata": {
        "id": "b9K9Q5q5aH8d",
        "colab": {
          "base_uri": "https://localhost:8080/"
        },
        "outputId": "1242b496-a9c4-4743-e3ee-d7cc4353811c"
      },
      "source": [
        "test_loss, test_acc = model.evaluate(test_images,  test_labels, verbose=2)\n",
        "\n",
        "print('\\nTest accuracy:', test_acc)"
      ],
      "execution_count": null,
      "outputs": [
        {
          "output_type": "stream",
          "name": "stdout",
          "text": [
            "313/313 - 1s - loss: 1.8629 - accuracy: 0.3304 - 510ms/epoch - 2ms/step\n",
            "\n",
            "Test accuracy: 0.3303999900817871\n"
          ]
        }
      ]
    },
    {
      "cell_type": "markdown",
      "metadata": {
        "id": "6VnqfIo-wpVT"
      },
      "source": [
        "# **Истории по Эпохам**"
      ]
    },
    {
      "cell_type": "code",
      "metadata": {
        "id": "7Rrht2hyz44f"
      },
      "source": [
        "def plot_history(histories,y_min,y_max):   \n",
        "    plt.figure(figsize=(20,10))\n",
        "    plotter = tfdocs.plots.HistoryPlotter(metric = 'accuracy', smoothing_std=10,)\n",
        "    plotter.plot(histories)\n",
        "    plt.ylim([y_min, y_max])"
      ],
      "execution_count": null,
      "outputs": []
    },
    {
      "cell_type": "code",
      "metadata": {
        "id": "TbZa6BL4eoFs"
      },
      "source": [
        "histories = {}"
      ],
      "execution_count": null,
      "outputs": []
    },
    {
      "cell_type": "code",
      "metadata": {
        "id": "PuMJk0QtepBr"
      },
      "source": [
        "histories['Dense NN'] = history"
      ],
      "execution_count": null,
      "outputs": []
    },
    {
      "cell_type": "code",
      "metadata": {
        "id": "kAbepk3kdjXL",
        "colab": {
          "base_uri": "https://localhost:8080/",
          "height": 610
        },
        "outputId": "2f2a080a-ca28-4100-a02c-bfad2d3773cb"
      },
      "source": [
        "plot_history(histories,0.1,0.4)"
      ],
      "execution_count": null,
      "outputs": [
        {
          "output_type": "display_data",
          "data": {
            "text/plain": [
              "<Figure size 1440x720 with 1 Axes>"
            ],
            "image/png": "[encoded data removed]"
          },
          "metadata": {}
        }
      ]
    },
    {
      "cell_type": "markdown",
      "metadata": {
        "id": "G349wI9v02wM"
      },
      "source": [
        "# **Анализируем Результат**"
      ]
    },
    {
      "cell_type": "markdown",
      "metadata": {
        "id": "oeQ1JeHFO2Ct"
      },
      "source": [
        "Предсказание Модели\n",
        "\n",
        "Непонятные цифры"
      ]
    },
    {
      "cell_type": "code",
      "metadata": {
        "id": "l30qW39V2hZs",
        "colab": {
          "base_uri": "https://localhost:8080/"
        },
        "outputId": "4fbad57e-5451-44af-cba7-418d905fd28b"
      },
      "source": [
        "prediction = model.predict(test_images)\n",
        "prediction[0]"
      ],
      "execution_count": null,
      "outputs": [
        {
          "output_type": "execute_result",
          "data": {
            "text/plain": [
              "array([-0.59309   , -0.2115823 ,  0.41721112,  0.8698612 ,  0.08799416,\n",
              "        0.8959944 ,  0.7640112 , -0.46981457, -0.56543386, -1.2322279 ],\n",
              "      dtype=float32)"
            ]
          },
          "metadata": {},
          "execution_count": 38
        }
      ]
    },
    {
      "cell_type": "markdown",
      "metadata": {
        "id": "DUf6OCmeO58d"
      },
      "source": [
        "С помощью функции SoftMax - нормализуем предсказания\n",
        "\n",
        "Так хоть адекватнеей выглядит (хотя формально шаг можно пропустить)"
      ]
    },
    {
      "cell_type": "code",
      "metadata": {
        "id": "GBrn-C6JwuTP",
        "colab": {
          "base_uri": "https://localhost:8080/"
        },
        "outputId": "1c10276e-ed2c-498e-99a7-089c9db10e04"
      },
      "source": [
        "probability_model = tf.keras.Sequential([model, \n",
        "                                         tf.keras.layers.Softmax()])\n",
        "prediction = probability_model.predict(test_images)\n",
        "prediction[0]"
      ],
      "execution_count": null,
      "outputs": [
        {
          "output_type": "execute_result",
          "data": {
            "text/plain": [
              "array([0.04442359, 0.06505795, 0.1220062 , 0.19185156, 0.08778187,\n",
              "       0.19693135, 0.17258191, 0.05025179, 0.04566933, 0.02344443],\n",
              "      dtype=float32)"
            ]
          },
          "metadata": {},
          "execution_count": 39
        }
      ]
    },
    {
      "cell_type": "code",
      "source": [
        "target_names"
      ],
      "metadata": {
        "colab": {
          "base_uri": "https://localhost:8080/"
        },
        "id": "N5zRgo69vdiJ",
        "outputId": "4dfb4eae-d38d-4f70-e200-f540ca5d1f6f"
      },
      "execution_count": null,
      "outputs": [
        {
          "output_type": "execute_result",
          "data": {
            "text/plain": [
              "array(['airplane', 'automobile', 'bird', 'cat', 'deer', 'dog', 'frog',\n",
              "       'horse', 'ship', 'truck'], dtype='<U10')"
            ]
          },
          "metadata": {},
          "execution_count": 47
        }
      ]
    },
    {
      "cell_type": "markdown",
      "metadata": {
        "id": "0SaHNkN_PCiX"
      },
      "source": [
        "Находим индекс соответсвующий максимуму предсказания"
      ]
    },
    {
      "cell_type": "code",
      "metadata": {
        "id": "vWzg09WQOpAO",
        "colab": {
          "base_uri": "https://localhost:8080/",
          "height": 36
        },
        "outputId": "92a4f9cc-e79a-453f-bb45-8cf1c17f3562"
      },
      "source": [
        "label_predict=np.argmax(prediction,axis=1)\n",
        "target_names[label_predict[0]]"
      ],
      "execution_count": null,
      "outputs": [
        {
          "output_type": "execute_result",
          "data": {
            "text/plain": [
              "'dog'"
            ],
            "application/vnd.google.colaboratory.intrinsic+json": {
              "type": "string"
            }
          },
          "metadata": {},
          "execution_count": 40
        }
      ]
    },
    {
      "cell_type": "code",
      "metadata": {
        "id": "nWx57QrHOQ_U",
        "colab": {
          "base_uri": "https://localhost:8080/",
          "height": 281
        },
        "outputId": "46ea42f8-2db7-4bc8-972b-671212dad843"
      },
      "source": [
        "plt.imshow(test_images[0])\n",
        "plt.title(target_names[test_labels[0][0]]);"
      ],
      "execution_count": null,
      "outputs": [
        {
          "output_type": "display_data",
          "data": {
            "text/plain": [
              "<Figure size 432x288 with 1 Axes>"
            ],
            "image/png": "[encoded data removed]"
          },
          "metadata": {}
        }
      ]
    },
    {
      "cell_type": "markdown",
      "metadata": {
        "id": "5mdgjIFdQr8M"
      },
      "source": [
        "посмотрим не только лучшее предсказание, а отсортируем возможные классы по \"уверенности\""
      ]
    },
    {
      "cell_type": "code",
      "metadata": {
        "id": "6PkDjLh9PqgD",
        "colab": {
          "base_uri": "https://localhost:8080/"
        },
        "outputId": "04e6c395-eaea-4409-c7a1-0d67545d3cf3"
      },
      "source": [
        "target_names[np.argsort(prediction[0])[::-1]]"
      ],
      "execution_count": null,
      "outputs": [
        {
          "output_type": "execute_result",
          "data": {
            "text/plain": [
              "array(['dog', 'cat', 'frog', 'bird', 'deer', 'automobile', 'horse',\n",
              "       'ship', 'airplane', 'truck'], dtype='<U10')"
            ]
          },
          "metadata": {},
          "execution_count": 42
        }
      ]
    },
    {
      "cell_type": "markdown",
      "metadata": {
        "id": "0UdK6RZMQie1"
      },
      "source": [
        "# **Матрица Ошибок**"
      ]
    },
    {
      "cell_type": "code",
      "metadata": {
        "id": "NDixRZqRxX_w"
      },
      "source": [
        "def plot_confusion_matrix(y_true,y_predict,labels):\n",
        "    confusion_mtx = tf.math.confusion_matrix(y_true, y_predict,) \n",
        "    confusion_mtx=np.round(confusion_mtx/np.sum(confusion_mtx,axis=1),2)\n",
        "    plt.figure(figsize=(10, 8))\n",
        "    sns.heatmap(confusion_mtx, xticklabels=labels, yticklabels=labels, \n",
        "                annot=True, fmt='g')\n",
        "    plt.xlabel('Prediction')\n",
        "    plt.ylabel('Label')\n",
        "    return confusion_mtx"
      ],
      "execution_count": null,
      "outputs": []
    },
    {
      "cell_type": "code",
      "metadata": {
        "id": "t17FAaHlykAI",
        "colab": {
          "base_uri": "https://localhost:8080/",
          "height": 543
        },
        "outputId": "93e0676c-6fb2-4881-cce6-425ce46904d4"
      },
      "source": [
        "cm=plot_confusion_matrix(test_labels,label_predict,target_names)"
      ],
      "execution_count": null,
      "outputs": [
        {
          "output_type": "display_data",
          "data": {
            "text/plain": [
              "<Figure size 720x576 with 2 Axes>"
            ],
            "image/png": "[encoded data removed]"
          },
          "metadata": {}
        }
      ]
    },
    {
      "cell_type": "markdown",
      "metadata": {
        "id": "BYJEEtCjaMAX"
      },
      "source": [
        "# Сохраняем модель"
      ]
    },
    {
      "cell_type": "markdown",
      "metadata": {
        "id": "CKzOzuHRZjy1"
      },
      "source": [
        "Сохраняем модель в 1 строку\n"
      ]
    },
    {
      "cell_type": "code",
      "metadata": {
        "id": "TYdQg_mjZtmN"
      },
      "source": [
        "# Save the entire model as a SavedModel.\n",
        "!mkdir -p saved_model\n",
        "model.save('saved_model/my_model')"
      ],
      "execution_count": null,
      "outputs": []
    },
    {
      "cell_type": "markdown",
      "metadata": {
        "id": "OHpeQiMTZx5j"
      },
      "source": [
        "Загружаем модель в 1 строку\n"
      ]
    },
    {
      "cell_type": "code",
      "metadata": {
        "id": "V_6l2zpaZjMU",
        "colab": {
          "base_uri": "https://localhost:8080/"
        },
        "outputId": "70bbeb44-7a96-4a63-ff82-4c8df9933cef"
      },
      "source": [
        "new_model = tf.keras.models.load_model('saved_model/my_model')\n",
        "\n",
        "# Check its architecture\n",
        "new_model.summary()"
      ],
      "execution_count": null,
      "outputs": [
        {
          "output_type": "stream",
          "name": "stdout",
          "text": [
            "Model: \"sequential_2\"\n",
            "_________________________________________________________________\n",
            " Layer (type)                Output Shape              Param #   \n",
            "=================================================================\n",
            " flatten_1 (Flatten)         (None, 3072)              0         \n",
            "                                                                 \n",
            " dense_3 (Dense)             (None, 32)                98336     \n",
            "                                                                 \n",
            " dense_4 (Dense)             (None, 16)                528       \n",
            "                                                                 \n",
            " dense_5 (Dense)             (None, 10)                170       \n",
            "                                                                 \n",
            "=================================================================\n",
            "Total params: 99,034\n",
            "Trainable params: 99,034\n",
            "Non-trainable params: 0\n",
            "_________________________________________________________________\n"
          ]
        }
      ]
    },
    {
      "cell_type": "markdown",
      "metadata": {
        "id": "h5zL5NY1nosI"
      },
      "source": [
        "# Задание\n",
        "\n",
        "Используя манипуляции с архитектурой полносвязной нейронной сети (количество слоев, количество нейронов в слое,  [функции активации](https://www.tensorflow.org/api_docs/python/tf/keras/activations), количество эпох обучения, и т.д.) добейтесь точности на валидационной выборке не менее 0.45\n",
        "\n",
        "**Подсказка**: ReLU сила, сигмоид могила\n"
      ]
    }
  ]
}
