{
  "cells": [
    {
      "cell_type": "markdown",
      "metadata": {
        "id": "view-in-github",
        "colab_type": "text"
      },
      "source": [
        "<a href=\"https://colab.research.google.com/github/dayekb/Study/blob/main/rus/UrFU/%D0%98%D0%BD%D1%82%D0%B5%D0%BB%D0%BB%D0%B5%D0%BA%D1%82%D1%83%D0%B0%D0%BB%D1%8C%D0%BD%D1%8B%D0%B5%20%D0%B8%D0%BD%D1%84%D0%BE%D1%80%D0%BC%D0%B0%D1%86%D0%B8%D0%BE%D0%BD%D0%BD%D1%8B%D0%B5%20%D1%81%D0%B8%D1%81%D1%82%D0%B5%D0%BC%D1%8B%20%D0%B8%20%D1%82%D0%B5%D1%85%D0%BD%D0%BE%D0%BB%D0%BE%D0%B3%D0%B8%D0%B8%20%D0%B2%20%D0%BC%D0%B5%D0%B4%D0%B8%D1%86%D0%B8%D0%BD%D0%B5/2%20%D1%81%D0%B5%D0%B7%D0%BE%D0%BD/%D0%91%D0%BB%D0%BE%D0%BA%D0%BD%D0%BE%D1%82%D1%8B%20(ipynb)/ML_2_14_01_RNN_Text_Generation.ipynb\" target=\"_parent\"><img src=\"https://colab.research.google.com/assets/colab-badge.svg\" alt=\"Open In Colab\"/></a>"
      ]
    },
    {
      "cell_type": "markdown",
      "source": [
        "В значительной степени основано на [этом туториале от Tensorflow](https://www.tensorflow.org/text/tutorials/text_generation)"
      ],
      "metadata": {
        "id": "LdbNM5y2uHcM"
      }
    },
    {
      "cell_type": "markdown",
      "source": [],
      "metadata": {
        "id": "9KsHjakfqUZq"
      }
    },
    {
      "cell_type": "markdown",
      "metadata": {
        "id": "t09eeeR5prIJ"
      },
      "source": [
        "##### Copyright 2019 The TensorFlow Authors."
      ]
    },
    {
      "cell_type": "code",
      "execution_count": null,
      "metadata": {
        "id": "GCCk8_dHpuNf",
        "cellView": "form"
      },
      "outputs": [],
      "source": [
        "#@title Licensed under the Apache License, Version 2.0 (the \"License\");\n",
        "# you may not use this file except in compliance with the License.\n",
        "# You may obtain a copy of the License at\n",
        "#\n",
        "# https://www.apache.org/licenses/LICENSE-2.0\n",
        "#\n",
        "# Unless required by applicable law or agreed to in writing, software\n",
        "# distributed under the License is distributed on an \"AS IS\" BASIS,\n",
        "# WITHOUT WARRANTIES OR CONDITIONS OF ANY KIND, either express or implied.\n",
        "# See the License for the specific language governing permissions and\n",
        "# limitations under the License."
      ]
    },
    {
      "cell_type": "markdown",
      "metadata": {
        "id": "ovpZyIhNIgoq"
      },
      "source": [
        "# Генерация текста с помощью RNN"
      ]
    },
    {
      "cell_type": "markdown",
      "source": [
        "Примечание. Ребята из Tensorflow рекомендуют включить ускорение графического процессора, чтобы этот блокнот работал быстрее. В Colab: *Среда выполнения > Изменить тип среды выполнения > Аппаратный ускоритель > Графический процессор*."
      ],
      "metadata": {
        "id": "Euil9RH1uddt"
      }
    },
    {
      "cell_type": "markdown",
      "metadata": {
        "id": "WGyKZj3bzf9p"
      },
      "source": [
        "### Импорт TensorFlow и других библиотек"
      ]
    },
    {
      "cell_type": "code",
      "execution_count": null,
      "metadata": {
        "id": "yG_n40gFzf9s"
      },
      "outputs": [],
      "source": [
        "import tensorflow as tf\n",
        "\n",
        "import numpy as np\n",
        "import os\n",
        "import time"
      ]
    },
    {
      "cell_type": "markdown",
      "metadata": {
        "id": "EHDoRoc5PKWz"
      },
      "source": [
        "### Загружаем текст Шекспира\n",
        "*потому что все любят Шекспира*\n",
        "\n",
        "Изменяем следующую строку, чтобы запустить этот код на ваших собственных данных"
      ]
    },
    {
      "cell_type": "code",
      "execution_count": null,
      "metadata": {
        "id": "pD_55cOxLkAb",
        "colab": {
          "base_uri": "https://localhost:8080/"
        },
        "outputId": "c2bfd300-0c93-4265-d1f0-db69bef57741"
      },
      "outputs": [
        {
          "output_type": "stream",
          "name": "stdout",
          "text": [
            "Downloading data from https://storage.googleapis.com/download.tensorflow.org/data/shakespeare.txt\n",
            "1115394/1115394 [==============================] - 0s 0us/step\n"
          ]
        }
      ],
      "source": [
        "path_to_file = tf.keras.utils.get_file('shakespeare.txt', 'https://storage.googleapis.com/download.tensorflow.org/data/shakespeare.txt')"
      ]
    },
    {
      "cell_type": "markdown",
      "metadata": {
        "id": "UHjdCjDuSvX_"
      },
      "source": [
        "### Считываем данные\n",
        "\n",
        "Во-первых, посмотрим на текст:"
      ]
    },
    {
      "cell_type": "code",
      "execution_count": null,
      "metadata": {
        "id": "aavnuByVymwK",
        "colab": {
          "base_uri": "https://localhost:8080/"
        },
        "outputId": "cdab28ed-47fe-4b39-aa62-3e7101777755"
      },
      "outputs": [
        {
          "output_type": "stream",
          "name": "stdout",
          "text": [
            "Всего в тексте: 1115394 символов\n"
          ]
        }
      ],
      "source": [
        "# Считываем, затем декодируем для совместимости с py2\n",
        "text = open(path_to_file, 'rb').read().decode(encoding='utf-8')\n",
        "# длина текста - это количество символов в нем\n",
        "print(f'Всего в тексте: {len(text)} символов')"
      ]
    },
    {
      "cell_type": "markdown",
      "source": [
        "да, мы читаем это по буквам"
      ],
      "metadata": {
        "id": "0s_p-n_Pu1-e"
      }
    },
    {
      "cell_type": "code",
      "execution_count": null,
      "metadata": {
        "id": "Duhg9NrUymwO",
        "colab": {
          "base_uri": "https://localhost:8080/"
        },
        "outputId": "9ad1d38f-9654-442d-d673-9352540caac9"
      },
      "outputs": [
        {
          "output_type": "stream",
          "name": "stdout",
          "text": [
            "First Citizen:\n",
            "Before we proceed any further, hear me speak.\n",
            "\n",
            "All:\n",
            "Speak, speak.\n",
            "\n",
            "First Citizen:\n",
            "You are all resolved rather to die than to famish?\n",
            "\n",
            "All:\n",
            "Resolved. resolved.\n",
            "\n",
            "First Citizen:\n",
            "First, you know Caius Marcius is chief\n"
          ]
        }
      ],
      "source": [
        "# Посмотрим на первые 228 символа в тексте (перенос строки \"\\n\" - тоже символ)\n",
        "print(text[:228])"
      ]
    },
    {
      "cell_type": "code",
      "execution_count": null,
      "metadata": {
        "id": "IlCgQBRVymwR",
        "colab": {
          "base_uri": "https://localhost:8080/"
        },
        "outputId": "56b29839-f945-4b0b-d1f2-28bdc42501fe"
      },
      "outputs": [
        {
          "output_type": "stream",
          "name": "stdout",
          "text": [
            "65 уникальных символов\n"
          ]
        }
      ],
      "source": [
        "# Уникальные символы в файле\n",
        "vocab = sorted(set(text))\n",
        "print(f'{len(vocab)} уникальных символов')"
      ]
    },
    {
      "cell_type": "markdown",
      "source": [
        "И сам словарь уникальных символов\n",
        "\n",
        "Нчнем с 1 на всякий случай) (0 символ как правило резервируется)\n",
        "\n",
        "Буквы ПРОПИСНЫЕ и строчные, знаки препинания, символы и прочее"
      ],
      "metadata": {
        "id": "SVGzvp1_vPQn"
      }
    },
    {
      "cell_type": "code",
      "source": [
        "for n,v in enumerate(vocab):\n",
        "    print(str(n+1) +\" : \" + repr(v))"
      ],
      "metadata": {
        "colab": {
          "base_uri": "https://localhost:8080/"
        },
        "id": "TN0ERRVhvNu5",
        "outputId": "33f51a06-ce79-4d74-94e7-0c48ae0225cc"
      },
      "execution_count": null,
      "outputs": [
        {
          "output_type": "stream",
          "name": "stdout",
          "text": [
            "1 : '\\n'\n",
            "2 : ' '\n",
            "3 : '!'\n",
            "4 : '$'\n",
            "5 : '&'\n",
            "6 : \"'\"\n",
            "7 : ','\n",
            "8 : '-'\n",
            "9 : '.'\n",
            "10 : '3'\n",
            "11 : ':'\n",
            "12 : ';'\n",
            "13 : '?'\n",
            "14 : 'A'\n",
            "15 : 'B'\n",
            "16 : 'C'\n",
            "17 : 'D'\n",
            "18 : 'E'\n",
            "19 : 'F'\n",
            "20 : 'G'\n",
            "21 : 'H'\n",
            "22 : 'I'\n",
            "23 : 'J'\n",
            "24 : 'K'\n",
            "25 : 'L'\n",
            "26 : 'M'\n",
            "27 : 'N'\n",
            "28 : 'O'\n",
            "29 : 'P'\n",
            "30 : 'Q'\n",
            "31 : 'R'\n",
            "32 : 'S'\n",
            "33 : 'T'\n",
            "34 : 'U'\n",
            "35 : 'V'\n",
            "36 : 'W'\n",
            "37 : 'X'\n",
            "38 : 'Y'\n",
            "39 : 'Z'\n",
            "40 : 'a'\n",
            "41 : 'b'\n",
            "42 : 'c'\n",
            "43 : 'd'\n",
            "44 : 'e'\n",
            "45 : 'f'\n",
            "46 : 'g'\n",
            "47 : 'h'\n",
            "48 : 'i'\n",
            "49 : 'j'\n",
            "50 : 'k'\n",
            "51 : 'l'\n",
            "52 : 'm'\n",
            "53 : 'n'\n",
            "54 : 'o'\n",
            "55 : 'p'\n",
            "56 : 'q'\n",
            "57 : 'r'\n",
            "58 : 's'\n",
            "59 : 't'\n",
            "60 : 'u'\n",
            "61 : 'v'\n",
            "62 : 'w'\n",
            "63 : 'x'\n",
            "64 : 'y'\n",
            "65 : 'z'\n"
          ]
        }
      ]
    },
    {
      "cell_type": "markdown",
      "metadata": {
        "id": "rNnrKn_lL-IJ"
      },
      "source": [
        "## Обработка текста"
      ]
    },
    {
      "cell_type": "markdown",
      "metadata": {
        "id": "LFjSVAlWzf-N"
      },
      "source": [
        "### Векторизуем/токенизируем текст\n",
        "\n",
        "Перед обучением нам необходимо преобразовать строки в числовое представление\n",
        "\n",
        "\n",
        "Слой `tf.keras.layers.StringLookup` может преобразовывать каждый символ в числовой идентификатор. \n",
        "\n",
        "Просто сначала нужно разделить текст на токены."
      ]
    },
    {
      "cell_type": "markdown",
      "source": [
        "Посмотрим на просто слова"
      ],
      "metadata": {
        "id": "mzmZo-VLrqL7"
      }
    },
    {
      "cell_type": "code",
      "execution_count": null,
      "metadata": {
        "id": "a86OoYtO01go",
        "colab": {
          "base_uri": "https://localhost:8080/"
        },
        "outputId": "3e0d7654-bb7e-4cb4-ce76-f771e112354b"
      },
      "outputs": [
        {
          "output_type": "execute_result",
          "data": {
            "text/plain": [
              "<tf.RaggedTensor [[b'P', b'y', b't', b'h', b'o', b'n'], [b'H', b'e', b'l', b'l', b'o'],\n",
              " [b'W', b'o', b'r', b'l', b'd']]>"
            ]
          },
          "metadata": {},
          "execution_count": 8
        }
      ],
      "source": [
        "example_texts = ['Python', 'Hello', 'World']\n",
        "\n",
        "chars = tf.strings.unicode_split(example_texts, input_encoding='UTF-8')\n",
        "chars"
      ]
    },
    {
      "cell_type": "markdown",
      "source": [
        "`b` значит энкодинг"
      ],
      "metadata": {
        "id": "0lD6GEMEvt7y"
      }
    },
    {
      "cell_type": "markdown",
      "metadata": {
        "id": "1s4f1q3iqY8f"
      },
      "source": [
        "Создадим слой `tf.keras.layers.StringLookup` :"
      ]
    },
    {
      "cell_type": "code",
      "execution_count": null,
      "metadata": {
        "id": "6GMlCe3qzaL9"
      },
      "outputs": [],
      "source": [
        "ids_from_chars = tf.keras.layers.StringLookup(\n",
        "    vocabulary=list(vocab), mask_token=None)"
      ]
    },
    {
      "cell_type": "markdown",
      "metadata": {
        "id": "ZmX_jbgQqfOi"
      },
      "source": [
        "Он конвертирует токены в идентификаторы символов:"
      ]
    },
    {
      "cell_type": "code",
      "execution_count": null,
      "metadata": {
        "id": "WLv5Q_2TC2pc",
        "colab": {
          "base_uri": "https://localhost:8080/"
        },
        "outputId": "666faf40-9948-4745-f47c-bfd109547f24"
      },
      "outputs": [
        {
          "output_type": "execute_result",
          "data": {
            "text/plain": [
              "<tf.RaggedTensor [[29, 64, 59, 47, 54, 53], [21, 44, 51, 51, 54], [36, 54, 57, 51, 43]]>"
            ]
          },
          "metadata": {},
          "execution_count": 10
        }
      ],
      "source": [
        "ids = ids_from_chars(chars)\n",
        "ids"
      ]
    },
    {
      "cell_type": "markdown",
      "metadata": {
        "id": "tZfqhkYCymwX"
      },
      "source": [
        "Поскольку целью является генерация текста, также важно инвертировать это представление и восстановить из него удобочитаемые строки.\n",
        "\n",
        "Для этого мы используем `tf.keras.layers.StringLookup(..., invert=True)`.  "
      ]
    },
    {
      "cell_type": "markdown",
      "metadata": {
        "id": "uenivzwqsDhp"
      },
      "source": [
        "Примечание. Здесь вместо передачи исходного словаря, сгенерированного с помощью `sorted(set(text))` мы используем метод `get_vocabulary()` из слоя `tf.keras.layers.StringLookup`; таким образом токен неизвестного символа `[UNK]` будет корректно обработан"
      ]
    },
    {
      "cell_type": "code",
      "execution_count": null,
      "metadata": {
        "id": "Wd2m3mqkDjRj"
      },
      "outputs": [],
      "source": [
        "chars_from_ids = tf.keras.layers.StringLookup(\n",
        "    vocabulary=ids_from_chars.get_vocabulary(), invert=True, mask_token=None)"
      ]
    },
    {
      "cell_type": "markdown",
      "metadata": {
        "id": "pqTDDxS-s-H8"
      },
      "source": [
        "Этот слой восстанавливает символы из векторов идентификаторов и возвращает их в виде `tf.RaggedTensor` символов:"
      ]
    },
    {
      "cell_type": "code",
      "execution_count": null,
      "metadata": {
        "id": "c2GCh0ySD44s",
        "colab": {
          "base_uri": "https://localhost:8080/"
        },
        "outputId": "57f03e10-011b-456e-d707-feb0c654e7bd"
      },
      "outputs": [
        {
          "output_type": "execute_result",
          "data": {
            "text/plain": [
              "<tf.RaggedTensor [[b'P', b'y', b't', b'h', b'o', b'n'], [b'H', b'e', b'l', b'l', b'o'],\n",
              " [b'W', b'o', b'r', b'l', b'd']]>"
            ]
          },
          "metadata": {},
          "execution_count": 12
        }
      ],
      "source": [
        "chars = chars_from_ids(ids)\n",
        "chars"
      ]
    },
    {
      "cell_type": "markdown",
      "source": [
        "или то же самое для случайной последовательности идентификаторов"
      ],
      "metadata": {
        "id": "WbYjyQGcxu0h"
      }
    },
    {
      "cell_type": "code",
      "source": [
        "chars_from_ids([4, 8, 15, 16, 23, 42])"
      ],
      "metadata": {
        "colab": {
          "base_uri": "https://localhost:8080/"
        },
        "id": "CLGZr5A_xs3Y",
        "outputId": "f14da717-4ee0-4688-c860-a13202b584f7"
      },
      "execution_count": null,
      "outputs": [
        {
          "output_type": "execute_result",
          "data": {
            "text/plain": [
              "<tf.Tensor: shape=(6,), dtype=string, numpy=array([b'$', b'-', b'B', b'C', b'J', b'c'], dtype=object)>"
            ]
          },
          "metadata": {},
          "execution_count": 13
        }
      ]
    },
    {
      "cell_type": "markdown",
      "metadata": {
        "id": "-FeW5gqutT3o"
      },
      "source": [
        "Можно воспользоваться `tf.strings.reduce_join` для соединения символов обратно в строки"
      ]
    },
    {
      "cell_type": "code",
      "execution_count": null,
      "metadata": {
        "id": "zxYI-PeltqKP",
        "colab": {
          "base_uri": "https://localhost:8080/"
        },
        "outputId": "e94b919f-182f-4a7f-f329-9f67e04e83a0"
      },
      "outputs": [
        {
          "output_type": "execute_result",
          "data": {
            "text/plain": [
              "array([b'Python', b'Hello', b'World'], dtype=object)"
            ]
          },
          "metadata": {},
          "execution_count": 14
        }
      ],
      "source": [
        "tf.strings.reduce_join(chars, axis=-1).numpy()"
      ]
    },
    {
      "cell_type": "markdown",
      "source": [
        "на всякий случай сохраним это как функцию"
      ],
      "metadata": {
        "id": "JHcbpBxXycjR"
      }
    },
    {
      "cell_type": "code",
      "execution_count": null,
      "metadata": {
        "id": "w5apvBDn9Ind"
      },
      "outputs": [],
      "source": [
        "def text_from_ids(ids):\n",
        "  return tf.strings.reduce_join(chars_from_ids(ids), axis=-1)"
      ]
    },
    {
      "cell_type": "markdown",
      "metadata": {
        "id": "bbmsf23Bymwe"
      },
      "source": [
        "### Задача предсказания"
      ]
    },
    {
      "cell_type": "markdown",
      "metadata": {
        "id": "wssHQ1oGymwe"
      },
      "source": [
        "Какую задачу мы решаем?\n",
        "\n",
        "Стандартная для языковой модели задача: Учитывая символ или последовательность символов, какой следующий символ наиболее вероятен? \n",
        "\n",
        "Это задача, для выполнения которой мы будем обучать модель. Входными данными для модели будет последовательность символов, и мы обучим модель прогнозировать выходные данные — следующий символ на каждом \"временном\" шаге.\n",
        "\n",
        "Поскольку RNN поддерживают внутреннее состояние, которое зависит от ранее просмотренных элементов, учитывая все символы, вычисленные до этого момента, каким будет следующий символ?\n"
      ]
    },
    {
      "cell_type": "markdown",
      "metadata": {
        "id": "hgsVvVxnymwf"
      },
      "source": [
        "### Создадим обучающие примеры и цели\n",
        "\n",
        "Разделим текст на последовательности примеров. Каждая входная последовательность будет содержать`seq_length` символов из текста\n",
        "\n",
        "Для каждой входной последовательности соответствующие цели содержат текст одинаковой длины, за исключением смещения на один символ вправо.\n",
        "\n",
        "Итак, разбиваем текст на куски `seq_length+1`.Например, `seq_length` 4 и у нас текст \"Hello\". Входоной последовательностью будет \"Hell\", а последовательностью целей \"ello\".\n",
        "\n",
        "Для этого воспользуемся функцией `tf.data.Dataset.from_tensor_slices` для преобразования текстового вектора в поток индексов символов"
      ]
    },
    {
      "cell_type": "code",
      "execution_count": null,
      "metadata": {
        "id": "UopbsKi88tm5",
        "colab": {
          "base_uri": "https://localhost:8080/"
        },
        "outputId": "908a53d2-ad23-425f-e3a8-50c77aa502d4"
      },
      "outputs": [
        {
          "output_type": "execute_result",
          "data": {
            "text/plain": [
              "<tf.Tensor: shape=(1115394,), dtype=int64, numpy=array([19, 48, 57, ..., 46,  9,  1])>"
            ]
          },
          "metadata": {},
          "execution_count": 16
        }
      ],
      "source": [
        "all_ids = ids_from_chars(tf.strings.unicode_split(text, 'UTF-8'))\n",
        "all_ids"
      ]
    },
    {
      "cell_type": "code",
      "execution_count": null,
      "metadata": {
        "id": "qmxrYDCTy-eL"
      },
      "outputs": [],
      "source": [
        "ids_dataset = tf.data.Dataset.from_tensor_slices(all_ids)"
      ]
    },
    {
      "cell_type": "code",
      "execution_count": null,
      "metadata": {
        "id": "cjH5v45-yqqH",
        "colab": {
          "base_uri": "https://localhost:8080/"
        },
        "outputId": "51b368f9-9009-4abc-e9a3-35bb665117f2"
      },
      "outputs": [
        {
          "output_type": "stream",
          "name": "stdout",
          "text": [
            "F\n",
            "i\n",
            "r\n",
            "s\n",
            "t\n",
            " \n",
            "C\n",
            "i\n",
            "t\n",
            "i\n",
            "z\n",
            "e\n",
            "n\n",
            ":\n",
            "\n",
            "\n"
          ]
        }
      ],
      "source": [
        "for ids in ids_dataset.take(15):\n",
        "    print(chars_from_ids(ids).numpy().decode('utf-8'))"
      ]
    },
    {
      "cell_type": "markdown",
      "source": [
        "Пусть Окно просмотра 100 **символов** "
      ],
      "metadata": {
        "id": "aoz9CPBnzYGb"
      }
    },
    {
      "cell_type": "code",
      "execution_count": null,
      "metadata": {
        "id": "C-G2oaTxy6km"
      },
      "outputs": [],
      "source": [
        "seq_length = 100"
      ]
    },
    {
      "cell_type": "markdown",
      "metadata": {
        "id": "-ZSYAcQV8OGP"
      },
      "source": [
        "Методом `batch` метод позволяет легко преобразовать эти отдельные символы в последовательности-батчи нужного размера"
      ]
    },
    {
      "cell_type": "code",
      "execution_count": null,
      "metadata": {
        "id": "BpdjRO2CzOfZ",
        "colab": {
          "base_uri": "https://localhost:8080/"
        },
        "outputId": "0585421f-3cc3-42ad-863d-acd06f600589"
      },
      "outputs": [
        {
          "output_type": "stream",
          "name": "stdout",
          "text": [
            "tf.Tensor(\n",
            "[b'F' b'i' b'r' b's' b't' b' ' b'C' b'i' b't' b'i' b'z' b'e' b'n' b':'\n",
            " b'\\n' b'B' b'e' b'f' b'o' b'r' b'e' b' ' b'w' b'e' b' ' b'p' b'r' b'o'\n",
            " b'c' b'e' b'e' b'd' b' ' b'a' b'n' b'y' b' ' b'f' b'u' b'r' b't' b'h'\n",
            " b'e' b'r' b',' b' ' b'h' b'e' b'a' b'r' b' ' b'm' b'e' b' ' b's' b'p'\n",
            " b'e' b'a' b'k' b'.' b'\\n' b'\\n' b'A' b'l' b'l' b':' b'\\n' b'S' b'p' b'e'\n",
            " b'a' b'k' b',' b' ' b's' b'p' b'e' b'a' b'k' b'.' b'\\n' b'\\n' b'F' b'i'\n",
            " b'r' b's' b't' b' ' b'C' b'i' b't' b'i' b'z' b'e' b'n' b':' b'\\n' b'Y'\n",
            " b'o' b'u' b' '], shape=(101,), dtype=string)\n"
          ]
        }
      ],
      "source": [
        "sequences = ids_dataset.batch(seq_length+1,\n",
        "                              drop_remainder=True)\n",
        "\n",
        "for seq in sequences.take(1):\n",
        "  print(chars_from_ids(seq))"
      ]
    },
    {
      "cell_type": "markdown",
      "metadata": {
        "id": "5PHW902-4oZt"
      },
      "source": [
        "Легче увидеть, что это делает, если мы соединим токены обратно в строки:"
      ]
    },
    {
      "cell_type": "code",
      "execution_count": null,
      "metadata": {
        "id": "QO32cMWu4a06",
        "colab": {
          "base_uri": "https://localhost:8080/"
        },
        "outputId": "9f583dd8-7bbf-4fe7-ff8d-bec8300934ed"
      },
      "outputs": [
        {
          "output_type": "stream",
          "name": "stdout",
          "text": [
            "b'First Citizen:\\nBefore we proceed any further, hear me speak.\\n\\nAll:\\nSpeak, speak.\\n\\nFirst Citizen:\\nYou '\n",
            "b'are all resolved rather to die than to famish?\\n\\nAll:\\nResolved. resolved.\\n\\nFirst Citizen:\\nFirst, you k'\n",
            "b\"now Caius Marcius is chief enemy to the people.\\n\\nAll:\\nWe know't, we know't.\\n\\nFirst Citizen:\\nLet us ki\"\n",
            "b\"ll him, and we'll have corn at our own price.\\nIs't a verdict?\\n\\nAll:\\nNo more talking on't; let it be d\"\n",
            "b'one: away, away!\\n\\nSecond Citizen:\\nOne word, good citizens.\\n\\nFirst Citizen:\\nWe are accounted poor citi'\n"
          ]
        }
      ],
      "source": [
        "for seq in sequences.take(5):\n",
        "  print(text_from_ids(seq).numpy())"
      ]
    },
    {
      "cell_type": "markdown",
      "metadata": {
        "id": "UbLcIPBj_mWZ"
      },
      "source": [
        "Для обучения вам понадобится набор данных с парами`(input, label)`. Где `input` и \n",
        "`label` последовательности. На каждом временном шаге вводом является текущий символ, а меткой является следующий символ.\n",
        "\n",
        "Вот функция, которая принимает последовательность в качестве входных данных, дублирует и сдвигает ее, чтобы выровнять ввод и метку для каждого временного шага:"
      ]
    },
    {
      "cell_type": "code",
      "execution_count": null,
      "metadata": {
        "id": "9NGu-FkO_kYU"
      },
      "outputs": [],
      "source": [
        "def split_input_target(sequence):\n",
        "    input_text = sequence[:-1]\n",
        "    target_text = sequence[1:]\n",
        "    return input_text, target_text"
      ]
    },
    {
      "cell_type": "code",
      "execution_count": null,
      "metadata": {
        "id": "WxbDTJTw5u_P",
        "colab": {
          "base_uri": "https://localhost:8080/"
        },
        "outputId": "3aeaee51-70cc-4ff5-b9c9-23a81e9bd6dd"
      },
      "outputs": [
        {
          "output_type": "execute_result",
          "data": {
            "text/plain": [
              "(['H', 'e', 'l', 'l', 'o', ' ', 'W', 'o', 'r', 'l'],\n",
              " ['e', 'l', 'l', 'o', ' ', 'W', 'o', 'r', 'l', 'd'])"
            ]
          },
          "metadata": {},
          "execution_count": 23
        }
      ],
      "source": [
        "split_input_target(list(\"Hello World\"))"
      ]
    },
    {
      "cell_type": "markdown",
      "source": [
        "Итак, набор данных - это связанные \"пары\"\n",
        "\n",
        "(0-100) и (1-101) символов"
      ],
      "metadata": {
        "id": "n9awAwen1a1u"
      }
    },
    {
      "cell_type": "code",
      "execution_count": null,
      "metadata": {
        "id": "B9iKPXkw5xwa",
        "colab": {
          "base_uri": "https://localhost:8080/"
        },
        "outputId": "b20f06bb-5ed1-4532-f46f-dc57c0d472d7"
      },
      "outputs": [
        {
          "output_type": "execute_result",
          "data": {
            "text/plain": [
              "<MapDataset element_spec=(TensorSpec(shape=(100,), dtype=tf.int64, name=None), TensorSpec(shape=(100,), dtype=tf.int64, name=None))>"
            ]
          },
          "metadata": {},
          "execution_count": 24
        }
      ],
      "source": [
        "dataset = sequences.map(split_input_target)\n",
        "dataset"
      ]
    },
    {
      "cell_type": "code",
      "execution_count": null,
      "metadata": {
        "id": "GNbw-iR0ymwj",
        "colab": {
          "base_uri": "https://localhost:8080/"
        },
        "outputId": "9b866b3d-2931-4f83-936c-4e90ae42a5c7"
      },
      "outputs": [
        {
          "output_type": "stream",
          "name": "stdout",
          "text": [
            "Input : b'First Citizen:\\nBefore we proceed any further, hear me speak.\\n\\nAll:\\nSpeak, speak.\\n\\nFirst Citizen:\\nYou'\n",
            "Target: b'irst Citizen:\\nBefore we proceed any further, hear me speak.\\n\\nAll:\\nSpeak, speak.\\n\\nFirst Citizen:\\nYou '\n"
          ]
        }
      ],
      "source": [
        "for input_example, target_example in dataset.take(1):\n",
        "    print(\"Input :\", text_from_ids(input_example).numpy())\n",
        "    print(\"Target:\", text_from_ids(target_example).numpy())"
      ]
    },
    {
      "cell_type": "markdown",
      "metadata": {
        "id": "MJdfPmdqzf-R"
      },
      "source": [
        "### Создание обучающих батчей\n",
        "\n",
        "Мы использовали `tf.data` чтобы разделить текст на последовательности. Но прежде чем вводить эти данные в модель, их необходимо перетасовать и упаковать в батчи."
      ]
    },
    {
      "cell_type": "code",
      "execution_count": null,
      "metadata": {
        "id": "p2pGotuNzf-S",
        "colab": {
          "base_uri": "https://localhost:8080/"
        },
        "outputId": "3ae5f5c0-ba06-4de0-fa34-606523449dc7"
      },
      "outputs": [
        {
          "output_type": "execute_result",
          "data": {
            "text/plain": [
              "<PrefetchDataset element_spec=(TensorSpec(shape=(64, 100), dtype=tf.int64, name=None), TensorSpec(shape=(64, 100), dtype=tf.int64, name=None))>"
            ]
          },
          "metadata": {},
          "execution_count": 26
        }
      ],
      "source": [
        "# Размер батча\n",
        "BATCH_SIZE = 64\n",
        "\n",
        "# Размер буфера для перемешивания набора данных\n",
        "# (данные TF предназначены для работы с потенциально бесконечными последовательностями,\n",
        "# поэтому он может пытаться всю последовательность в памяти. \n",
        "# Вместо этого он поддерживает буфер, в котором он перемешивает элементы).\n",
        "BUFFER_SIZE = 10000\n",
        "\n",
        "dataset = (\n",
        "    dataset\n",
        "    .shuffle(BUFFER_SIZE)\n",
        "    .batch(BATCH_SIZE, drop_remainder=True)\n",
        "    .prefetch(tf.data.experimental.AUTOTUNE))\n",
        "\n",
        "dataset"
      ]
    },
    {
      "cell_type": "markdown",
      "metadata": {
        "id": "r6oUuElIMgVx"
      },
      "source": [
        "## Строим Модель"
      ]
    },
    {
      "cell_type": "markdown",
      "metadata": {
        "id": "m8gPwEjRzf-Z"
      },
      "source": [
        "Здесь мы используем класс`keras.Model` для создания нашей модели. (Больше инфы [Про слои, модели и прочие классы](https://www.tensorflow.org/guide/keras/custom_layers_and_models)). \n",
        "\n",
        "В модели 3 слоя:\n",
        "\n",
        "* `tf.keras.layers.Embedding`: начальный слой. Обучаемая \"таблица поиска\", которая будет отображать каждый идентификатор символа в вектор с размерностью `embedding_dim`;\n",
        "* `tf.keras.layers.LSTM`: Рекуррентный слой с размерностью`units=rnn_units` (Можно использовать тип слоя GRU, тогда запускаем модель с `LSTM = False`) \n",
        "* `tf.keras.layers.Dense`: Выходной слой с размерностью выхода `vocab_size`. Он выводит один логит для каждого символа в словаре. Это логарифмическая вероятность каждого символа в соответствии с моделью."
      ]
    },
    {
      "cell_type": "code",
      "execution_count": null,
      "metadata": {
        "id": "zHT8cLh7EAsg"
      },
      "outputs": [],
      "source": [
        "# Длина словаря в слое StringLookup\n",
        "vocab_size = len(ids_from_chars.get_vocabulary())\n",
        "\n",
        "# Размерность пространства Embedding\n",
        "embedding_dim = 256\n",
        "\n",
        "#Размерность рекуррентных слоев\n",
        "rnn_units = 1024"
      ]
    },
    {
      "cell_type": "code",
      "execution_count": null,
      "metadata": {
        "id": "wj8HQ2w8z4iO"
      },
      "outputs": [],
      "source": [
        "class MyModel(tf.keras.Model):\n",
        "  def __init__(self, vocab_size, embedding_dim, rnn_units):\n",
        "    super().__init__(self)\n",
        "    self.embedding = tf.keras.layers.Embedding(vocab_size, embedding_dim)\n",
        "    self.gru = tf.keras.layers.GRU(rnn_units,\n",
        "                                   return_sequences=True,\n",
        "                                   return_state=True)\n",
        "    self.lstm = tf.keras.layers.LSTM(rnn_units,\n",
        "                                return_sequences=True,\n",
        "                                return_state=True)\n",
        "    self.dense = tf.keras.layers.Dense(vocab_size)\n",
        "\n",
        "  def call(self, inputs, states=None,\n",
        "           return_state=False,\n",
        "           training=False, LSTM = True):\n",
        "    x = inputs\n",
        "    x = self.embedding(x, training=training)\n",
        "    if LSTM:\n",
        "        if states is None:\n",
        "            hidden_states, cell_states = self.lstm.get_initial_state(x) #этот геморой про то, что LSTM выдает 2 скрытых слоя\n",
        "            states = [hidden_states, cell_states]\n",
        "        hidden_states, cell_states = states\n",
        "        x, hidden_states, cell_states = self.lstm(x, initial_state=[hidden_states, cell_states], training=training)\n",
        "        states = [hidden_states, cell_states]\n",
        "    else:\n",
        "        if states is None:\n",
        "            states, cell_states = self.gru.get_initial_state(x) #а в GRU только 1 скрытый слой\n",
        "        x, states = self.gru(x, initial_state=states, training=training)\n",
        "\n",
        "    x = self.dense(x, training=training)\n",
        "\n",
        "    if return_state:\n",
        "      return x, states\n",
        "    else:\n",
        "      return x"
      ]
    },
    {
      "cell_type": "markdown",
      "source": [
        "Запускаем"
      ],
      "metadata": {
        "id": "IpL8-R1fiA6e"
      }
    },
    {
      "cell_type": "code",
      "execution_count": null,
      "metadata": {
        "id": "IX58Xj9z47Aw"
      },
      "outputs": [],
      "source": [
        "model = MyModel(\n",
        "    vocab_size=vocab_size,\n",
        "    embedding_dim=embedding_dim,\n",
        "    rnn_units=rnn_units)"
      ]
    },
    {
      "cell_type": "markdown",
      "source": [
        "![image.png](data:image/png;base64,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)"
      ],
      "metadata": {
        "id": "3aTlilvJPmKv"
      }
    },
    {
      "cell_type": "markdown",
      "metadata": {
        "id": "gKbfm04amhXk"
      },
      "source": [
        "Примечание: Для обучения можно использовать вариант модели `keras.Sequential`. \n",
        "\n",
        "Чтобы сгенерировать текст позже, вам нужно будет управлять внутренним состоянием RNN. Проще заранее включить параметры ввода и вывода состояния, чем позже перестраивать архитектуру модели.\n",
        "\n",
        "Подробнее см.[Гайд по реккурентным сетям](https://www.tensorflow.org/guide/keras/rnn#rnn_state_reuse)."
      ]
    },
    {
      "cell_type": "markdown",
      "metadata": {
        "id": "-ubPo0_9Prjb"
      },
      "source": [
        "## Протестируем модель\n",
        "\n",
        "Теперь запустим модель со случайными весами и скрытым состоянием, чтобы убедиться, что она ведет себя так, как ожидалось.\n",
        "\n",
        "Сначала проверьте форму вывода:"
      ]
    },
    {
      "cell_type": "code",
      "execution_count": null,
      "metadata": {
        "id": "C-_70kKAPrPU",
        "colab": {
          "base_uri": "https://localhost:8080/"
        },
        "outputId": "5f15ea73-65c8-440a-87bf-eadb696e55b5"
      },
      "outputs": [
        {
          "output_type": "stream",
          "name": "stdout",
          "text": [
            "(64, 100, 66) # (batch_size, sequence_length, vocab_size)\n"
          ]
        }
      ],
      "source": [
        "for input_example_batch, target_example_batch in dataset.take(1):\n",
        "    example_batch_predictions = model(input_example_batch)\n",
        "    print(example_batch_predictions.shape, \"# (batch_size, sequence_length, vocab_size)\")"
      ]
    },
    {
      "cell_type": "markdown",
      "metadata": {
        "id": "Q6NzLBi4VM4o"
      },
      "source": [
        "В приведенном выше примере длина последовательности входных данных равна `100` но модель может работать на входных данных любой длины\n",
        "\n",
        "`64` - размерность 1 батча\n",
        "\n",
        "`66` - сколько у нас символов + 1"
      ]
    },
    {
      "cell_type": "code",
      "execution_count": null,
      "metadata": {
        "id": "vPGmAAXmVLGC",
        "colab": {
          "base_uri": "https://localhost:8080/"
        },
        "outputId": "3fedee05-f2dc-4f6b-e5fc-cfc4271cd239"
      },
      "outputs": [
        {
          "output_type": "stream",
          "name": "stdout",
          "text": [
            "Model: \"my_model\"\n",
            "_________________________________________________________________\n",
            " Layer (type)                Output Shape              Param #   \n",
            "=================================================================\n",
            " embedding (Embedding)       multiple                  16896     \n",
            "                                                                 \n",
            " gru (GRU)                   multiple                  0 (unused)\n",
            "                                                                 \n",
            " lstm (LSTM)                 multiple                  5246976   \n",
            "                                                                 \n",
            " dense (Dense)               multiple                  67650     \n",
            "                                                                 \n",
            "=================================================================\n",
            "Total params: 5,331,522\n",
            "Trainable params: 5,331,522\n",
            "Non-trainable params: 0\n",
            "_________________________________________________________________\n"
          ]
        }
      ],
      "source": [
        "model.summary()"
      ]
    },
    {
      "cell_type": "markdown",
      "metadata": {
        "id": "uwv0gEkURfx1"
      },
      "source": [
        "Чтобы получить фактические прогнозы от модели, вам нужно сэмплировать по выборке из выходного распределения, чтобы получить фактические индексы символов. Это распределение определяется логитами по словарю символов.\n",
        "\n",
        "Примечание. Важно _сэмплировать_ из распределения, так как использование _argmax_ по распределению может легко привести модель к зацикливанию.\n",
        "\n",
        "В значит Вариативность\n",
        "\n"
      ]
    },
    {
      "cell_type": "markdown",
      "source": [
        "Попробуем  для первого примера в батче:"
      ],
      "metadata": {
        "id": "2KVKoFwcjGEd"
      }
    },
    {
      "cell_type": "code",
      "source": [
        "example_batch_predictions[0]"
      ],
      "metadata": {
        "colab": {
          "base_uri": "https://localhost:8080/"
        },
        "id": "3qCTGf-LLA3I",
        "outputId": "2a5edabc-0068-4b8a-c0e0-86887e0ba688"
      },
      "execution_count": null,
      "outputs": [
        {
          "output_type": "execute_result",
          "data": {
            "text/plain": [
              "<tf.Tensor: shape=(100, 66), dtype=float32, numpy=\n",
              "array([[ 3.0169496e-05,  8.8263082e-04, -2.4501663e-03, ...,\n",
              "         2.4906653e-03,  3.3725649e-03,  2.9997942e-03],\n",
              "       [-5.7611503e-03, -8.8414428e-04, -4.9059819e-03, ...,\n",
              "         2.5526900e-03, -1.5680460e-04,  1.8557871e-03],\n",
              "       [-4.2379680e-03,  7.9100011e-03, -2.0427131e-03, ...,\n",
              "         8.1503717e-03,  9.2000710e-03,  3.6193316e-03],\n",
              "       ...,\n",
              "       [-9.0220375e-03, -5.3261346e-03, -6.6717491e-03, ...,\n",
              "         3.6721984e-03, -9.1494303e-03,  1.5363675e-03],\n",
              "       [-6.5560918e-03, -7.7691460e-03, -9.8514436e-03, ...,\n",
              "         4.1446341e-03, -5.6208922e-03,  1.0451432e-03],\n",
              "       [-5.9202220e-03, -5.8798087e-03, -3.3637963e-03, ...,\n",
              "         3.1547912e-03, -3.7415051e-03,  3.8200377e-03]], dtype=float32)>"
            ]
          },
          "metadata": {},
          "execution_count": 32
        }
      ]
    },
    {
      "cell_type": "markdown",
      "source": [
        "Визуализируем"
      ],
      "metadata": {
        "id": "QZ3HGEO9jJfl"
      }
    },
    {
      "cell_type": "code",
      "source": [
        "import matplotlib.pyplot as plt"
      ],
      "metadata": {
        "id": "8Bmy2DRALZSN"
      },
      "execution_count": null,
      "outputs": []
    },
    {
      "cell_type": "code",
      "source": [
        "plt.style.use('dark_background')"
      ],
      "metadata": {
        "id": "QJ2X940vkO4V"
      },
      "execution_count": null,
      "outputs": []
    },
    {
      "cell_type": "code",
      "source": [
        "fig = plt.figure(figsize = (10, 10))\n",
        "plt.matshow(example_batch_predictions[0],\n",
        "            cmap = 'bwr',vmin=-0.02,vmax=0.02, fignum=1)\n",
        "plt.colorbar();"
      ],
      "metadata": {
        "colab": {
          "base_uri": "https://localhost:8080/",
          "height": 612
        },
        "id": "xP6P0RUELPRi",
        "outputId": "00ed2130-4313-4b38-f031-b30da23ebbdd"
      },
      "execution_count": null,
      "outputs": [
        {
          "output_type": "display_data",
          "data": {
            "text/plain": [
              "<Figure size 720x720 with 2 Axes>"
            ],
            "image/png": "[encoded data removed]"
          },
          "metadata": {}
        }
      ]
    },
    {
      "cell_type": "markdown",
      "source": [
        "Очень красиво - но ничего не понятно"
      ],
      "metadata": {
        "id": "UKk9HbMqjY6O"
      }
    },
    {
      "cell_type": "markdown",
      "source": [
        "Посмотрим на вероятности для 1 символа"
      ],
      "metadata": {
        "id": "pj8jzP2ej7vg"
      }
    },
    {
      "cell_type": "code",
      "source": [
        "x = example_batch_predictions[0][0]"
      ],
      "metadata": {
        "id": "TVmFVoAtj5Ry"
      },
      "execution_count": null,
      "outputs": []
    },
    {
      "cell_type": "code",
      "source": [
        "fig = plt.figure(figsize = (15,7))\n",
        "plt.bar(np.arange(len(x)),x);"
      ],
      "metadata": {
        "colab": {
          "base_uri": "https://localhost:8080/",
          "height": 428
        },
        "id": "0LlgVv1MjnoX",
        "outputId": "dc633443-c336-4e8a-9457-432af14ba377"
      },
      "execution_count": null,
      "outputs": [
        {
          "output_type": "display_data",
          "data": {
            "text/plain": [
              "<Figure size 1080x504 with 1 Axes>"
            ],
            "image/png": "[encoded data removed]"
          },
          "metadata": {}
        }
      ]
    },
    {
      "cell_type": "markdown",
      "source": [
        "Делаем softmax от этого"
      ],
      "metadata": {
        "id": "gmv32PekkZvt"
      }
    },
    {
      "cell_type": "code",
      "source": [
        "def softmax(x):\n",
        "    return np.exp(x)/np.sum(np.exp(x))"
      ],
      "metadata": {
        "id": "9w3iWjfUjhs4"
      },
      "execution_count": null,
      "outputs": []
    },
    {
      "cell_type": "code",
      "source": [
        "fig = plt.figure(figsize = (15,7))\n",
        "plt.bar(np.arange(len(x)),softmax(x));"
      ],
      "metadata": {
        "colab": {
          "base_uri": "https://localhost:8080/",
          "height": 432
        },
        "id": "-RKuG9YgkeKP",
        "outputId": "a24f0a1c-b8d5-4a68-ff8b-0a5f4953c0c6"
      },
      "execution_count": null,
      "outputs": [
        {
          "output_type": "display_data",
          "data": {
            "text/plain": [
              "<Figure size 1080x504 with 1 Axes>"
            ],
            "image/png": "[encoded data removed]"
          },
          "metadata": {}
        }
      ]
    },
    {
      "cell_type": "markdown",
      "source": [
        "Логично \n",
        "\n",
        "Уверенности нет\n",
        "\n",
        "Сплошной рандом"
      ],
      "metadata": {
        "id": "uXpcg72QkpqY"
      }
    },
    {
      "cell_type": "markdown",
      "source": [
        "Поехали генерировать по этому распределению"
      ],
      "metadata": {
        "id": "ZImx3PdXk5xn"
      }
    },
    {
      "cell_type": "code",
      "execution_count": null,
      "metadata": {
        "id": "4V4MfFg0RQJg"
      },
      "outputs": [],
      "source": [
        "sampled_indices = tf.random.categorical(example_batch_predictions[0], num_samples=1)\n",
        "sampled_indices = tf.squeeze(sampled_indices, axis=-1).numpy()"
      ]
    },
    {
      "cell_type": "markdown",
      "metadata": {
        "id": "QM1Vbxs_URw5"
      },
      "source": [
        "Это дает нам на каждом временном шаге прогноз индекса следующего символа:"
      ]
    },
    {
      "cell_type": "code",
      "execution_count": null,
      "metadata": {
        "id": "YqFMUQc_UFgM",
        "colab": {
          "base_uri": "https://localhost:8080/"
        },
        "outputId": "805d3b78-263b-4f43-ae03-9807275a4ce9"
      },
      "outputs": [
        {
          "output_type": "execute_result",
          "data": {
            "text/plain": [
              "array([41, 65,  8, 59, 14,  1, 21, 29,  9,  6, 31, 40, 64, 39, 23, 42, 50,\n",
              "       40, 16, 53,  5, 28,  7, 35, 23, 33,  8, 47, 60, 51, 23, 64,  8, 62,\n",
              "       64, 25, 46, 65, 54, 15, 10, 32, 50, 40, 33, 21,  3, 63, 14, 47,  7,\n",
              "       28, 16, 56, 23, 35, 11, 34, 41, 60, 36, 12, 43, 21, 47, 20, 25, 38,\n",
              "        9,  7, 52, 51, 55, 58, 52,  6, 19,  0, 27, 22, 58, 25, 37, 19, 25,\n",
              "       22,  0, 60, 46, 64, 26, 20, 25, 26,  1, 44, 17, 31, 24,  1])"
            ]
          },
          "metadata": {},
          "execution_count": 54
        }
      ],
      "source": [
        "sampled_indices"
      ]
    },
    {
      "cell_type": "markdown",
      "metadata": {
        "id": "LfLtsP3mUhCG"
      },
      "source": [
        "Декодируем, чтобы увидеть текст, предсказанный этой необученной моделью:"
      ]
    },
    {
      "cell_type": "code",
      "execution_count": null,
      "metadata": {
        "id": "xWcFwPwLSo05",
        "colab": {
          "base_uri": "https://localhost:8080/"
        },
        "outputId": "52fed389-5166-46d6-df68-2ea15af10f98"
      },
      "outputs": [
        {
          "output_type": "stream",
          "name": "stdout",
          "text": [
            "Input:\n",
            " b\"cius was\\nA worthy officer i' the war; but insolent,\\nO'ercome with pride, ambitious past all thinking\"\n",
            "\n",
            "Next Char Predictions:\n",
            " b\"bz-tA\\nHP.'RayZJckaCn&O,VJT-hulJy-wyLgzoB3SkaTH!xAh,OCqJV:UbuW;dHhGLY.,mlpsm'F[UNK]NIsLXFLI[UNK]ugyMGLM\\neDRK\\n\"\n"
          ]
        }
      ],
      "source": [
        "print(\"Input:\\n\", text_from_ids(input_example_batch[0]).numpy())\n",
        "print()\n",
        "print(\"Next Char Predictions:\\n\", text_from_ids(sampled_indices).numpy())"
      ]
    },
    {
      "cell_type": "markdown",
      "source": [
        "Кто бы мог предположить, что случайные веса необученной модели будут давать абсолютно случайный ответ?"
      ],
      "metadata": {
        "id": "sAWPpegi-ndq"
      }
    },
    {
      "cell_type": "markdown",
      "metadata": {
        "id": "LJL0Q0YPY6Ee"
      },
      "source": [
        "## Обучаем Модель"
      ]
    },
    {
      "cell_type": "markdown",
      "metadata": {
        "id": "YCbHQHiaa4Ic"
      },
      "source": [
        "На этом этапе задача может рассматриваться как стандартная задача классификации. \n",
        "\n",
        "Учитывая предыдущее состояние RNN и символ на этом временном шаге, предскажите вероятность следующего символа."
      ]
    },
    {
      "cell_type": "markdown",
      "metadata": {
        "id": "trpqTWyvk0nr"
      },
      "source": [
        "### Что-то там, оптимизаторы, что-то там функция потерь"
      ]
    },
    {
      "cell_type": "markdown",
      "metadata": {
        "id": "UAjbjY03eiQ4"
      },
      "source": [
        "Стандартная функция потерь `tf.keras.losses.sparse_categorical_crossentropy` работает в этом случае, потому что она применяется к последнему измерению прогнозов.\n",
        "\n",
        "Поскольку наша модель возвращает логиты, нам необходимо установить флаг`from_logits`.\n"
      ]
    },
    {
      "cell_type": "code",
      "execution_count": null,
      "metadata": {
        "id": "ZOeWdgxNFDXq"
      },
      "outputs": [],
      "source": [
        "loss = tf.losses.SparseCategoricalCrossentropy(from_logits=True)"
      ]
    },
    {
      "cell_type": "code",
      "execution_count": null,
      "metadata": {
        "id": "4HrXTACTdzY-",
        "colab": {
          "base_uri": "https://localhost:8080/"
        },
        "outputId": "13623844-059c-481f-a834-820b491da835"
      },
      "outputs": [
        {
          "output_type": "stream",
          "name": "stdout",
          "text": [
            "Prediction shape:  (64, 100, 66)  # (batch_size, sequence_length, vocab_size)\n",
            "Mean loss:         tf.Tensor(4.189952, shape=(), dtype=float32)\n"
          ]
        }
      ],
      "source": [
        "example_batch_mean_loss = loss(target_example_batch, example_batch_predictions)\n",
        "print(\"Prediction shape: \", example_batch_predictions.shape, \" # (batch_size, sequence_length, vocab_size)\")\n",
        "print(\"Mean loss:        \", example_batch_mean_loss)"
      ]
    },
    {
      "cell_type": "markdown",
      "metadata": {
        "id": "vkvUIneTFiow"
      },
      "source": [
        "Просто инициализированная модель не должна быть слишком уверена в себе, все выходные логиты должны иметь одинаковые величины. Чтобы подтвердить это, вы можете проверить, что экспонента средней потери примерно равна размеру словаря. Гораздо более высокая потеря означает, что модель уверена в своих неправильных ответах и плохо инициализирована:"
      ]
    },
    {
      "cell_type": "code",
      "execution_count": null,
      "metadata": {
        "id": "MAJfS5YoFiHf",
        "colab": {
          "base_uri": "https://localhost:8080/"
        },
        "outputId": "954f74e5-c3b5-405b-e7b1-e9588231935e"
      },
      "outputs": [
        {
          "output_type": "execute_result",
          "data": {
            "text/plain": [
              "66.019615"
            ]
          },
          "metadata": {},
          "execution_count": 90
        }
      ],
      "source": [
        "tf.exp(example_batch_mean_loss).numpy()"
      ]
    },
    {
      "cell_type": "markdown",
      "metadata": {
        "id": "jeOXriLcymww"
      },
      "source": [
        "Настроем процедуру обучения с помощью метода `tf.keras.Model.compile` . \n",
        "\n",
        "Используем оптимизатор `tf.keras.optimizers.Adam` с параметрами по умолчанию и упомянутую выше функцию потерь"
      ]
    },
    {
      "cell_type": "code",
      "execution_count": null,
      "metadata": {
        "id": "DDl1_Een6rL0"
      },
      "outputs": [],
      "source": [
        "model.compile(optimizer='adam', loss=loss)"
      ]
    },
    {
      "cell_type": "markdown",
      "metadata": {
        "id": "ieSJdchZggUj"
      },
      "source": [
        "### Добавляем Чекпоинты"
      ]
    },
    {
      "cell_type": "markdown",
      "metadata": {
        "id": "C6XBUUavgF56"
      },
      "source": [
        "Используем `tf.keras.callbacks.ModelCheckpoint` чтобы убедиться, что контрольные точки сохраняются во время обучения, а также `tf.keras.callbacks.EarlyStopping` остановиться раньше, до переобучения"
      ]
    },
    {
      "cell_type": "code",
      "execution_count": null,
      "metadata": {
        "id": "W6fWTriUZP-n"
      },
      "outputs": [],
      "source": [
        "# Каталог, в котором будут сохранены контрольные точки\n",
        "checkpoint_dir = './training_checkpoints'\n",
        "# Имя файлов контрольных точек\n",
        "checkpoint_prefix = os.path.join(checkpoint_dir, \"ckpt_{epoch}\")\n",
        "\n",
        "checkpoint_callback = tf.keras.callbacks.ModelCheckpoint(\n",
        "    filepath=checkpoint_prefix,\n",
        "    save_best_only=True,\n",
        "    monitor='loss', #в качестве альтернативы это может быть «val_loss», если у нас есть валидационные данные\n",
        "    verbose=0,\n",
        "    mode='min',\n",
        "    save_weights_only=True)\n",
        "\n",
        "early_stop = tf.keras.callbacks.EarlyStopping(\n",
        "    monitor='loss',#в качестве альтернативы это может быть «val_loss», если у нас есть валидационные данные\n",
        "    min_delta=0.01, #порог на изменение того, за чем мы мониторим\n",
        "    patience=10, #сколько эпох \"терпим\"\n",
        "    verbose=1, \n",
        "    mode='min',\n",
        "    restore_best_weights=True\n",
        ")"
      ]
    },
    {
      "cell_type": "markdown",
      "metadata": {
        "id": "3Ky3F_BhgkTW"
      },
      "source": [
        "### Запускаем обучение"
      ]
    },
    {
      "cell_type": "markdown",
      "metadata": {
        "id": "IxdOA-rgyGvs"
      },
      "source": [
        "Чтобы сохранить время обучения разумным, используйте 15 эпох для обучения модели. \n",
        "\n",
        "В Colab установите среду выполнения на GPU для более быстрого обучения."
      ]
    },
    {
      "cell_type": "code",
      "execution_count": null,
      "metadata": {
        "id": "7yGBE2zxMMHs"
      },
      "outputs": [],
      "source": [
        "EPOCHS = 15"
      ]
    },
    {
      "cell_type": "markdown",
      "source": [
        "Жмем на кнопку и идём пить чай/писать отчет по проекту)"
      ],
      "metadata": {
        "id": "p6x9HNS6ASmh"
      }
    },
    {
      "cell_type": "code",
      "execution_count": null,
      "metadata": {
        "id": "UK-hmKjYVoll",
        "colab": {
          "base_uri": "https://localhost:8080/"
        },
        "outputId": "a41669e1-5115-47c5-d4c7-233c2d4fac23"
      },
      "outputs": [
        {
          "output_type": "stream",
          "name": "stdout",
          "text": [
            "Epoch 1/15\n",
            "172/172 [==============================] - 14s 70ms/step - loss: 2.8240\n",
            "Epoch 2/15\n",
            "172/172 [==============================] - 13s 72ms/step - loss: 2.1073\n",
            "Epoch 3/15\n",
            "172/172 [==============================] - 13s 69ms/step - loss: 1.8372\n",
            "Epoch 4/15\n",
            "172/172 [==============================] - 13s 69ms/step - loss: 1.6662\n",
            "Epoch 5/15\n",
            "172/172 [==============================] - 13s 71ms/step - loss: 1.5544\n",
            "Epoch 6/15\n",
            "172/172 [==============================] - 13s 70ms/step - loss: 1.4774\n",
            "Epoch 7/15\n",
            "172/172 [==============================] - 13s 67ms/step - loss: 1.4208\n",
            "Epoch 8/15\n",
            "172/172 [==============================] - 13s 70ms/step - loss: 1.3770\n",
            "Epoch 9/15\n",
            "172/172 [==============================] - 13s 72ms/step - loss: 1.3405\n",
            "Epoch 10/15\n",
            "172/172 [==============================] - 13s 69ms/step - loss: 1.3089\n",
            "Epoch 11/15\n",
            "172/172 [==============================] - 13s 69ms/step - loss: 1.2804\n",
            "Epoch 12/15\n",
            "172/172 [==============================] - 13s 71ms/step - loss: 1.2533\n",
            "Epoch 13/15\n",
            "172/172 [==============================] - 13s 70ms/step - loss: 1.2280\n",
            "Epoch 14/15\n",
            "172/172 [==============================] - 13s 69ms/step - loss: 1.2009\n",
            "Epoch 15/15\n",
            "172/172 [==============================] - 13s 70ms/step - loss: 1.1751\n"
          ]
        }
      ],
      "source": [
        "history = model.fit(dataset, \n",
        "                    epochs=EPOCHS, \n",
        "                    callbacks=[checkpoint_callback, early_stop])"
      ]
    },
    {
      "cell_type": "markdown",
      "source": [
        "Ну, он работает полных 15 эпох, но если мы поставим что-то вроде 50 эпох, он обязательно остановится заранее (но это не точно)"
      ],
      "metadata": {
        "id": "sM5uitErFUby"
      }
    },
    {
      "cell_type": "markdown",
      "source": [
        "![image.png](data:image/png;base64,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)"
      ],
      "metadata": {
        "id": "-dhka5TLIEJF"
      }
    },
    {
      "cell_type": "markdown",
      "metadata": {
        "id": "kKkD5M6eoSiN"
      },
      "source": [
        "## Генерируем текст"
      ]
    },
    {
      "cell_type": "markdown",
      "metadata": {
        "id": "oIdQ8c8NvMzV"
      },
      "source": [
        "Самый простой способ сгенерировать текст с помощью этой модели — запустить ее в цикле и отслеживать внутреннее состояние модели по мере ее выполнения.\n",
        "\n",
        "Каждый раз, когда вы вызываете модель, вы передаете некоторый текст и внутреннее состояние. Модель возвращает прогноз для следующего символа и его нового состояния. Передайте предсказание и состояние обратно, чтобы продолжить создание текста."
      ]
    },
    {
      "cell_type": "markdown",
      "metadata": {
        "id": "DjGz1tDkzf-u"
      },
      "source": [
        "Следующее делает одношаговый прогноз:"
      ]
    },
    {
      "cell_type": "code",
      "execution_count": null,
      "metadata": {
        "id": "iSBU1tHmlUSs"
      },
      "outputs": [],
      "source": [
        "class OneStep(tf.keras.Model):\n",
        "  def __init__(self, model, \n",
        "               chars_from_ids, ids_from_chars, \n",
        "               temperature=1.0):\n",
        "    super().__init__()\n",
        "    self.temperature = temperature #Температура используется для корректировки прогноза. По простому, меньше - температура меньше случайного вывода\n",
        "    self.model = model\n",
        "    self.chars_from_ids = chars_from_ids\n",
        "    self.ids_from_chars = ids_from_chars\n",
        "\n",
        "    # Создим маску, чтобы предотвратить создание символа [UNK]\n",
        "    skip_ids = self.ids_from_chars(['[UNK]'])[:, None]\n",
        "    sparse_mask = tf.SparseTensor(\n",
        "        # Поместим -inf в каждый \"плохой\" индекс\n",
        "        values=[-float('inf')]*len(skip_ids),\n",
        "        indices=skip_ids,\n",
        "        # Сопоставьте форму со словарем\n",
        "        dense_shape=[len(ids_from_chars.get_vocabulary())])\n",
        "    self.prediction_mask = tf.sparse.to_dense(sparse_mask)\n",
        "\n",
        "  @tf.function\n",
        "  def generate_one_step(self, inputs, states=None):\n",
        "    # Преобразование строк в идентификаторы токенов\n",
        "    input_chars = tf.strings.unicode_split(inputs, 'UTF-8')\n",
        "    input_ids = self.ids_from_chars(input_chars).to_tensor()\n",
        "\n",
        "    # Запускаем модель\n",
        "    # размерность predicted_logits [batch, char, next_char_logits]\n",
        "    predicted_logits, states = self.model(inputs=input_ids, states=states,\n",
        "                                          return_state=True)\n",
        "    # Используем только последний прогноз\n",
        "    predicted_logits = predicted_logits[:, -1, :]\n",
        "    # Делаем поправку на температуру\n",
        "    predicted_logits = predicted_logits/self.temperature\n",
        "    # Применим маску предсказания: предотвратим создание «[UNK]»\n",
        "    predicted_logits = predicted_logits + self.prediction_mask\n",
        "\n",
        "    # Семплируем выходные логиты для создания идентификаторов маркеров.\n",
        "    predicted_ids = tf.random.categorical(predicted_logits, num_samples=1)\n",
        "    predicted_ids = tf.squeeze(predicted_ids, axis=-1)\n",
        "\n",
        "    # Преобразование идентификаторов токенов в символы\n",
        "    predicted_chars = self.chars_from_ids(predicted_ids)\n",
        "\n",
        "    # Возвращаем символы и скрытое состояние модели\n",
        "    return predicted_chars, states"
      ]
    },
    {
      "cell_type": "markdown",
      "source": [
        "Про влияние температуры\n",
        "\n",
        "Большая температура"
      ],
      "metadata": {
        "id": "jttjxsCOrqOG"
      }
    },
    {
      "cell_type": "code",
      "source": [
        "fig = plt.figure(figsize = (15,7))\n",
        "plt.bar(np.arange(len(x)),x/5);"
      ],
      "metadata": {
        "colab": {
          "base_uri": "https://localhost:8080/",
          "height": 428
        },
        "outputId": "f808657e-8d83-4cfc-fd5a-5cacbd26bee2",
        "id": "IOWgGsLNsk_f"
      },
      "execution_count": null,
      "outputs": [
        {
          "output_type": "display_data",
          "data": {
            "text/plain": [
              "<Figure size 1080x504 with 1 Axes>"
            ],
            "image/png": "[encoded data removed]"
          },
          "metadata": {}
        }
      ]
    },
    {
      "cell_type": "markdown",
      "source": [
        "softmax от этого еще более плавный\n",
        "\n",
        "и предсказание более рандомное"
      ],
      "metadata": {
        "id": "qCxzCJ78sk_g"
      }
    },
    {
      "cell_type": "code",
      "source": [
        "fig = plt.figure(figsize = (15,7))\n",
        "plt.bar(np.arange(len(x)),softmax(x/5));"
      ],
      "metadata": {
        "colab": {
          "base_uri": "https://localhost:8080/",
          "height": 428
        },
        "outputId": "d3008226-d0af-4665-e326-e830d0abf67e",
        "id": "HlveRWHask_h"
      },
      "execution_count": null,
      "outputs": [
        {
          "output_type": "display_data",
          "data": {
            "text/plain": [
              "<Figure size 1080x504 with 1 Axes>"
            ],
            "image/png": "[encoded data removed]"
          },
          "metadata": {}
        }
      ]
    },
    {
      "cell_type": "markdown",
      "source": [
        "Про влияние температуры\n",
        "\n",
        "Маленькая температура"
      ],
      "metadata": {
        "id": "ohKPXgZUtKyL"
      }
    },
    {
      "cell_type": "code",
      "source": [
        "fig = plt.figure(figsize = (15,7))\n",
        "plt.bar(np.arange(len(x)),x/0.005);"
      ],
      "metadata": {
        "colab": {
          "base_uri": "https://localhost:8080/",
          "height": 428
        },
        "outputId": "1bf7342b-eaa3-40c3-862e-cafeb0682845",
        "id": "i1_Eit9rtKyM"
      },
      "execution_count": null,
      "outputs": [
        {
          "output_type": "display_data",
          "data": {
            "text/plain": [
              "<Figure size 1080x504 with 1 Axes>"
            ],
            "image/png": "[encoded data removed]"
          },
          "metadata": {}
        }
      ]
    },
    {
      "cell_type": "markdown",
      "source": [
        "softmax уже выделяет любимчиков"
      ],
      "metadata": {
        "id": "UTGRIYzDtKyM"
      }
    },
    {
      "cell_type": "code",
      "source": [
        "fig = plt.figure(figsize = (15,7))\n",
        "plt.bar(np.arange(len(x)),softmax(x/0.005));"
      ],
      "metadata": {
        "colab": {
          "base_uri": "https://localhost:8080/",
          "height": 428
        },
        "outputId": "23cd48f2-eac0-4d56-fd72-5971334b7b86",
        "id": "R3W_HviStKyN"
      },
      "execution_count": null,
      "outputs": [
        {
          "output_type": "display_data",
          "data": {
            "text/plain": [
              "<Figure size 1080x504 with 1 Axes>"
            ],
            "image/png": "[encoded data removed]"
          },
          "metadata": {}
        }
      ]
    },
    {
      "cell_type": "markdown",
      "source": [
        "## Поехали генерировать текст"
      ],
      "metadata": {
        "id": "JeWpSvxGscPE"
      }
    },
    {
      "cell_type": "code",
      "execution_count": null,
      "metadata": {
        "id": "fqMOuDutnOxK"
      },
      "outputs": [],
      "source": [
        "one_step_model = OneStep(model, \n",
        "                         chars_from_ids, \n",
        "                         ids_from_chars)"
      ]
    },
    {
      "cell_type": "markdown",
      "metadata": {
        "id": "p9yDoa0G3IgQ"
      },
      "source": [
        "Запускаем всё в цикле, чтобы сгенерировать текст. \n",
        "\n",
        "Глядя на сгенерированный текст, мы можем увидеть, что модель знает, когда использовать заглавные буквы, делать абзацы и имитирует шекспировский словарный запас. \n",
        "\n",
        "При малом числе эпох обучения он еще не научился составлять связные предложения."
      ]
    },
    {
      "cell_type": "code",
      "execution_count": null,
      "metadata": {
        "id": "ST7PSyk9t1mT",
        "colab": {
          "base_uri": "https://localhost:8080/"
        },
        "outputId": "6d52fb62-9adb-47b6-d5bf-f28a44ec1881"
      },
      "outputs": [
        {
          "output_type": "stream",
          "name": "stdout",
          "text": [
            "ROMEO:\n",
            "Good propaghter, in two curses be so\n",
            "noinger.\n",
            "\n",
            "Shepherd:\n",
            "Small him detended.\n",
            "\n",
            "FRIAR LAURENCE:\n",
            "Find shall with sweet Aufidius, silence! What has keep\n",
            "And saw thy formacles; one follain's flus,\n",
            "Your own by my counsel. nor ha, and foolish he,\n",
            "Tybalt to be this sadness, if tyrant immedit\n",
            "An 'Coming swear, in this unvillaoding sleets\n",
            "Breaking her oncy of their high. By this, as our man;\n",
            "I am my life, your soul, forthtright: he hath you spoke?\n",
            "\n",
            "MONTAGUE:\n",
            "Wherefore lay me? What Plutting his our due.\n",
            "Your brother is thus never? that betten,\n",
            "Marciesly, or ermonour, that nothing\n",
            "Mates, do nothing power\n",
            "Awake her fallen things unto my wife.\n",
            "\n",
            "Provost:\n",
            "You lay upon my silver than the woo,\n",
            "Show from me hear out; and, extabling crosses;\n",
            "Within Since, come, I'll tell me what you\n",
            "are we may knle: but your deceit should let him\n",
            "fall oa, making this point of boams. There's one!\n",
            "\n",
            "EXMORSEL:\n",
            "\n",
            "MERCUTIO:\n",
            "No doubt: yet you are here,\n",
            "My grandfither, God give my office and great\n",
            "Assured in the consosing in the  \n",
            "\n",
            "________________________________________________________________________________\n",
            "\n",
            "Run time: 3.4026951789855957\n"
          ]
        }
      ],
      "source": [
        "start = time.time()\n",
        "states = None\n",
        "next_char = tf.constant(['ROMEO:']) # не забудьте поменять стартовое слово\n",
        "result = [next_char]\n",
        "\n",
        "for n in range(1000):\n",
        "  next_char, states = one_step_model.generate_one_step(next_char, states=states)\n",
        "  result.append(next_char)\n",
        "\n",
        "result = tf.strings.join(result)\n",
        "end = time.time()\n",
        "print(result[0].numpy().decode('utf-8'), '\\n\\n' + '_'*80) #декодируем результат чтобы прочитать как есть\n",
        "print('\\nRun time:', end - start)"
      ]
    },
    {
      "cell_type": "markdown",
      "metadata": {
        "id": "AM2Uma_-yVIq"
      },
      "source": [
        "Самое простое, что вы можете сделать для улучшения результатов, — это тренироваться дольше (пробуем `EPOCHS = 30`).\n",
        "\n",
        "Вы также можете поэкспериментировать с другой начальной строкой, попробовать добавить еще один слой RNN, чтобы повысить точность модели, или настроить параметр температуры, чтобы генерировать более или менее случайные прогнозы."
      ]
    },
    {
      "cell_type": "markdown",
      "metadata": {
        "id": "_OfbI4aULmuj"
      },
      "source": [
        "Если вы хотите, чтобы модель генерировала текст быстрее, самое простое, что вы можете сделать, это пакетное генерирование текста (паралельно)\n",
        "\n",
        "В приведенном ниже примере модель генерирует 5 выходных данных примерно за то же время, что и выше."
      ]
    },
    {
      "cell_type": "code",
      "execution_count": null,
      "metadata": {
        "id": "ZkLu7Y8UCMT7",
        "colab": {
          "base_uri": "https://localhost:8080/"
        },
        "outputId": "c29b7e12-7484-417e-cc1e-fcf3ed3cc62f"
      },
      "outputs": [
        {
          "output_type": "stream",
          "name": "stdout",
          "text": [
            "tf.Tensor(\n",
            "[b\"ROMEO:\\nNay, by himself, for death, I'll foll them sea\\nWhat a more-biring thunder of your son\\nWhat passage stars again,--women have Henry'd you.\\n\\nHENRY BOLINGBROKE:\\nJast haste, ha! then, gentle shopest of many post,\\nReturn'd in their own in hostess: yet hermione\\nHas long cannot see the deputy till knoe\\nHere's sight, Fall bless, and am I die, and therein\\nall itself to persume truth: I pity my dead,\\nI tell us their oldwards are made known\\nAnd o'er from her accursed with from heavens,\\nMy winds' breaks no longer, he had ever in\\nsafety words.\\n\\nBRAKENBURY:\\nWhy that\\nShe king is here? thy liege, what, in proclamadioms,\\nAre my though wail their robmestings,\\nMy king and hostey's flightution, or ten\\nthe cictors of him; him of all the losh,\\nThat let them go.\\n\\nCORIOLANUS:\\nO my soul, if you are device:\\nYour mother do with us, and his mercy is brokes\\nNo canity\\nThe grace what haste a paced glarpa, and\\nScorance.\\n\\nDUKE VINCENTIO:\\nI am not with Bohemia: then fare\\nRathous fair war.\\nYou talk of that meaning, for \"\n",
            " b\"ROMEO:\\nI thank thee oal. What he this news?\\n\\nMOPSA:\\nIn that which was fairest for her husband,\\nFor we shall stay as yield to look himself\\nMost mighty hand to usact our twomant;\\nAnd lifebes there; in sickly smeans upon my heart!\\nBoth overle than my oresperail safe:\\nYou take the next commit all after the\\ncrown.\\n\\nPETRUCHIO:\\nNot for the worstanes, how is he in his prince.\\n\\nProvost:\\nWho masicy shall be the nutham? Comes!\\nI shall rebolk upon thy head, I come\\nShould honour in a deed when means on's skins?\\nBrothers, who five himself--the people's power\\nThan in arms: what dread what counsel die in?\\n\\nGLOUCESTER:\\nA with his point and figure in her his words.\\n\\nROMEO:\\nO Tare is, in this had a man when time,\\nNay, that beloved a horseman, is the world\\nIn which is sparkling, not might spring a friend,\\nWhilst here I thank you for wonder than my mind.\\n\\nThird Watchman:\\nWhere are my repent, he has one so timeless?\\n\\nISABELLA:\\nI curp your worship: belly, and all the advanture,\\nBy your own strength are silked chee\"\n",
            " b\"ROMEO:\\nAman, again.\\nHow now, more! you might blunched to die one grieves,\\nThis last name ope and eal'd to and own flowers. Bid them in comes him\\nFine speed at Stampety. Come, Has inter great sings,\\nHas notfick'd again, with bloods arminal divin,\\nNow my tongue stands and find their instructed luck,\\nAnd all my father's flesh with all poporent.\\n\\nBoPh:\\nI think, it was lan selt me. Is be said\\nThe way, and be a goodly parton 'omer.\\n\\nGhourst of Someriage: Lord Hastings, hearing, no.\\n\\nMENENIUS:\\nWell talks all I,\\nOn your leaves or whether it stirl it speaks.\\n\\nAgale:\\nWherein Chistora will he did how I loved\\nBy London our stops successable and unfeas\\nAnd cleak from him our old enemies.\\nAnd if you pouse the sun that march'd forbid,\\nSo inchronce my soul my father!\\nAt saint Petruchio is here, and that that he\\nstill succre that first dance his dagg'd friar.\\n\\nLADY CAPULET:\\nWhere is London, Are it is off.\\n\\nKATHARINA:\\nYou will but say for, sir. My heart sousion\\nThat our woes-dower gaiden: his lightness words\\n\"\n",
            " b\"ROMEO:\\nHere comes, he will wash your changes. As, be open\\nin resict in the city, yet did news if you\\ncantless midam, but would fath in personation.\\nThey oa, go give up your guests, and wouldst have\\nhearing the army: or they since.\\n\\nMENENIUS:\\nPardon men, my lord,\\nTo batcle unto this place and formard sturia\\nUpon her profits on the thought of truth:\\nWhich was but as morning horse than see\\nshould make thee than together death, and be a\\ncandial thing and want\\nBy' day and wounds to be fiddle why healting\\nof his fellows of my one as an hour,\\nOr will how I comital a death, setice,\\nhis name in sheep-house: a whole man, north with\\nslowers; and transport nose, and so prevailing\\nTo sweat for censure the worse tale peef aid\\nWhat thinking on my good corse unto me\\nTa'enco of your heartly; or betwixt their souls\\nOf postering armutation: some directing\\nMaster behind the norther.\\n\\nNurse:\\nHere, sir, my lord.\\n\\nAUTOLYCUS:\\nPray, by it heavenness of Histy, take years; where\\nHe tolk may homebbeards I play'd to see\"\n",
            " b\"ROMEO:\\nKass, he prettily harm out your grumblings?\\n\\nSICINIUS:\\nSir, sir, a\\ncrast the ground of my heart; therefore, gentleness, who\\nhather only in the aity of folly\\nDid not begun in Paul Edward but that shall\\nto act one shoulder-drine.\\n\\nMorse:\\nSir, we have no own gentlemen; hath how I endured,\\nCan bage him all this cunon. Your borness\\nRathaning his eyes three dead to blame,\\nMaking was bound a reasonable rid o' to heaven:\\nWithals are dready finds as frail a son;\\nAnd, on her consmilation, gried! But one who,\\nYour new-maid I, to Staymer, let court a wife to rein:\\nThe earth. Come, come, we come to my entreated.\\n\\nROMEO:\\n\\nYORK:\\nWhat such from manight thou, Harret and Buckingham\\nNo more than to be a poise?\\n\\nSICINIUS:\\nWhy then? his the fighted vantage to\\na king will speak my wit my country in a\\ncourted it after by books to both be seen alively,\\nDifest her party, to send for yea,\\nAnd know her, truly, erron to affaction!\\nThat I have will, I did.\\n\\nCLAUDIO:\\nTufin, by your lords?\\n\\nDUKE VINCENTIO:\\nIt is ag\"], shape=(5,), dtype=string) \n",
            "\n",
            "________________________________________________________________________________\n",
            "\n",
            "Run time: 3.4337844848632812\n"
          ]
        }
      ],
      "source": [
        "start = time.time()\n",
        "states = None\n",
        "next_char = tf.constant(['ROMEO:', 'ROMEO:', 'ROMEO:', 'ROMEO:', 'ROMEO:']) # можно задать несколько Разных стартовых слов\n",
        "result = [next_char]\n",
        "\n",
        "for n in range(1000):\n",
        "  next_char, states = one_step_model.generate_one_step(next_char, states=states)\n",
        "  result.append(next_char)\n",
        "\n",
        "result = tf.strings.join(result)\n",
        "end = time.time()\n",
        "print(result, '\\n\\n' + '_'*80) # а тут не декодируем, иначе запутаемся где что (в сыром виде. А то он начнет переносить)\n",
        "print('\\nRun time:', end - start)"
      ]
    },
    {
      "cell_type": "markdown",
      "metadata": {
        "id": "UlUQzwu6EXam"
      },
      "source": [
        "## Сохраним Это все\n",
        "\n",
        "На светлое будущее\n",
        "\n",
        "Эта одношаговая модель может быть легко [сохранен и восстановлен](https://www.tensorflow.org/guide/saved_model),позволяет использовать его в любом месте где можно использовать `tf.saved_model`"
      ]
    },
    {
      "cell_type": "code",
      "execution_count": null,
      "metadata": {
        "id": "3Grk32H_CzsC",
        "colab": {
          "base_uri": "https://localhost:8080/"
        },
        "outputId": "92f910af-0930-4a69-885f-20f9fcd8f0f2"
      },
      "outputs": [
        {
          "output_type": "stream",
          "name": "stderr",
          "text": [
            "WARNING:tensorflow:Skipping full serialization of Keras layer <__main__.OneStep object at 0x7f50722f6b80>, because it is not built.\n",
            "WARNING:tensorflow:Skipping full serialization of Keras layer <keras.layers.rnn.gru.GRU object at 0x7f513de64ee0>, because it is not built.\n",
            "WARNING:tensorflow:Skipping full serialization of Keras layer <keras.layers.rnn.gru.GRUCell object at 0x7f513de79580>, because it is not built.\n",
            "WARNING:absl:Found untraced functions such as lstm_cell_4_layer_call_fn, lstm_cell_4_layer_call_and_return_conditional_losses while saving (showing 2 of 2). These functions will not be directly callable after loading.\n"
          ]
        }
      ],
      "source": [
        "tf.saved_model.save(one_step_model, 'one_step')\n",
        "one_step_reloaded = tf.saved_model.load('one_step')"
      ]
    },
    {
      "cell_type": "markdown",
      "source": [
        "![image.png](data:image/png;base64,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)"
      ],
      "metadata": {
        "id": "NU36iEqVH8o2"
      }
    },
    {
      "cell_type": "code",
      "execution_count": null,
      "metadata": {
        "id": "_Z9bb_wX6Uuu",
        "colab": {
          "base_uri": "https://localhost:8080/"
        },
        "outputId": "0abddbe8-1687-4287-85db-56ad5acfd27c"
      },
      "outputs": [
        {
          "output_type": "stream",
          "name": "stdout",
          "text": [
            "ROMEO:\n",
            "Now weaves! why, there is such adonour-fuled\n",
            "Nursel kind and terms us rashrant their heam\n",
            "And stret\n"
          ]
        }
      ],
      "source": [
        "states = None\n",
        "next_char = tf.constant(['ROMEO:'])\n",
        "result = [next_char]\n",
        "\n",
        "for n in range(100):\n",
        "  next_char, states = one_step_reloaded.generate_one_step(next_char, states=states)\n",
        "  result.append(next_char)\n",
        "\n",
        "print(tf.strings.join(result)[0].numpy().decode(\"utf-8\"))"
      ]
    },
    {
      "cell_type": "markdown",
      "source": [
        "# Задание\n",
        "\n",
        "1. Собрать свой текст (можно условного Льва Николаевича Толстого, можно подборку песен вашего любимого исполнителя. Главное чтобы было много букоф)\n",
        "\n",
        "2. Можно немного пошаманить с настройками (длина последовательности, размерности слоя Embedding, сколько чего в RNN слое, тип слоя)\n",
        "\n",
        "3. Обучить уверенную модель (накатив количество эпох)\n",
        "\n",
        "4. Посмотреть что будет\n",
        "\n",
        "5. Сравнить для разных значений температуры"
      ],
      "metadata": {
        "id": "Uze0YVlY-R6g"
      }
    }
  ],
  "metadata": {
    "accelerator": "GPU",
    "colab": {
      "provenance": [],
      "include_colab_link": true
    },
    "kernelspec": {
      "display_name": "Python 3",
      "name": "python3"
    }
  },
  "nbformat": 4,
  "nbformat_minor": 0
}